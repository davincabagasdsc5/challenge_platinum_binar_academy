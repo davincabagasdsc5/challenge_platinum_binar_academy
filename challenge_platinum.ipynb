{
 "cells": [
  {
   "cell_type": "code",
   "execution_count": 70,
   "metadata": {
    "scrolled": false
   },
   "outputs": [
    {
     "name": "stderr",
     "output_type": "stream",
     "text": [
      "[nltk_data] Downloading package punkt to\n",
      "[nltk_data]     C:\\Users\\Acer\\AppData\\Roaming\\nltk_data...\n",
      "[nltk_data]   Package punkt is already up-to-date!\n"
     ]
    }
   ],
   "source": [
    "import pandas as pd\n",
    "import numpy as np\n",
    "import matplotlib.pyplot as plt\n",
    "import seaborn as sns\n",
    "import re\n",
    "import pickle\n",
    "import nltk\n",
    "nltk.download('punkt')\n",
    "from nltk.tokenize import word_tokenize\n",
    "\n",
    "from imblearn.over_sampling import RandomOverSampler\n",
    "from sklearn.preprocessing import LabelEncoder\n",
    "from keras.preprocessing.text import Tokenizer\n",
    "from keras.utils import pad_sequences, to_categorical\n",
    "from sklearn.model_selection import train_test_split\n",
    "from keras.models import Sequential\n",
    "from keras.layers import Embedding, SpatialDropout1D, LSTM, Dense, Dropout, Flatten\n",
    "from sklearn.metrics import accuracy_score, classification_report\n",
    "from keras.models import load_model\n",
    "import tensorflow as tf"
   ]
  },
  {
   "cell_type": "code",
   "execution_count": 71,
   "metadata": {},
   "outputs": [
    {
     "name": "stdout",
     "output_type": "stream",
     "text": [
      " Volume in drive D is Data\n",
      " Volume Serial Number is 86AA-243D\n",
      "\n",
      " Directory of d:\\Binar Academy - Data Science\\challenge_platinum\\challenge_platinum_binar_academy\\collabs_result\n",
      "\n",
      "27/03/2023  08:43    <DIR>          .\n",
      "07/03/2023  12:49    <DIR>          ..\n",
      "27/03/2023  15:23            35.218 app.py\n",
      "21/03/2023  20:45             5.532 catatan.txt\n",
      "27/03/2023  15:05           151.605 challenge_platinum.ipynb\n",
      "15/04/2020  14:27         1.858.473 data.csv\n",
      "10/03/2023  15:49    <DIR>          dict\n",
      "07/03/2023  12:44             1.731 function_script.py\n",
      "20/03/2023  18:54            18.693 Kerangka Report.docx\n",
      "26/03/2023  17:09           168.132 notebook_davinca_EDA.ipynb\n",
      "27/03/2023  14:33        29.397.840 sentiment_analysis_feedForward_neuralNetwork.h5\n",
      "26/03/2023  22:27        18.241.392 sentiment_analysis_model_challenge.h5\n",
      "16/03/2023  17:32        24.058.408 sentiment_analysis_model_CNN_challenge.h5\n",
      "27/03/2023  15:13    <DIR>          templates\n",
      "01/03/2023  09:52           221.297 test_data.csv\n",
      "01/03/2023  09:52         1.989.823 train_data.csv\n",
      "16/02/2023  19:18         2.186.718 train_preprocess.tsv.txt\n",
      "07/03/2023  12:44    <DIR>          __pycache__\n",
      "              13 File(s)     78.334.862 bytes\n",
      "               5 Dir(s)  145.587.793.920 bytes free\n"
     ]
    }
   ],
   "source": [
    "!dir"
   ]
  },
  {
   "cell_type": "code",
   "execution_count": 72,
   "metadata": {},
   "outputs": [],
   "source": [
    "df_train = pd.read_csv(\"train_data.csv\")\n",
    "df_test = pd.read_csv(\"test_data.csv\")"
   ]
  },
  {
   "cell_type": "code",
   "execution_count": 73,
   "metadata": {},
   "outputs": [
    {
     "data": {
      "text/plain": [
       "positive    5790\n",
       "negative    3083\n",
       "neutral     1027\n",
       "Name: labels, dtype: int64"
      ]
     },
     "execution_count": 73,
     "metadata": {},
     "output_type": "execute_result"
    }
   ],
   "source": [
    "df_train.labels.value_counts()"
   ]
  },
  {
   "cell_type": "code",
   "execution_count": 74,
   "metadata": {},
   "outputs": [
    {
     "data": {
      "text/plain": [
       "positive    626\n",
       "negative    353\n",
       "neutral     121\n",
       "Name: labels, dtype: int64"
      ]
     },
     "execution_count": 74,
     "metadata": {},
     "output_type": "execute_result"
    }
   ],
   "source": [
    "df_test.labels.value_counts()"
   ]
  },
  {
   "attachments": {},
   "cell_type": "markdown",
   "metadata": {},
   "source": [
    "### Oversampling pada Labels, karena imbalance"
   ]
  },
  {
   "cell_type": "code",
   "execution_count": 75,
   "metadata": {},
   "outputs": [
    {
     "name": "stdout",
     "output_type": "stream",
     "text": [
      "positive    5790\n",
      "negative    5790\n",
      "neutral     5790\n",
      "Name: labels, dtype: int64\n"
     ]
    }
   ],
   "source": [
    "# inisiasi RandomOverSampler\n",
    "ros = RandomOverSampler(random_state=42)\n",
    "\n",
    "# lakukan oversampling pada kolom \"tweets\" dan \"labels\" dengan memanggil fungsi fit_resample()\n",
    "X_resampled, y_resampled = ros.fit_resample(df_train[['tweets']], df_train['labels'])\n",
    "\n",
    "# gabungkan data yang sudah di-resample menjadi sebuah dataframe baru\n",
    "df_train = pd.concat([pd.DataFrame(X_resampled, columns=['tweets']), pd.DataFrame(y_resampled, columns=['labels'])], axis=1)\n",
    "\n",
    "# print jumlah label pada dataframe yang sudah di-resample\n",
    "print(df_train['labels'].value_counts())"
   ]
  },
  {
   "cell_type": "code",
   "execution_count": 76,
   "metadata": {},
   "outputs": [
    {
     "data": {
      "text/html": [
       "<div>\n",
       "<style scoped>\n",
       "    .dataframe tbody tr th:only-of-type {\n",
       "        vertical-align: middle;\n",
       "    }\n",
       "\n",
       "    .dataframe tbody tr th {\n",
       "        vertical-align: top;\n",
       "    }\n",
       "\n",
       "    .dataframe thead th {\n",
       "        text-align: right;\n",
       "    }\n",
       "</style>\n",
       "<table border=\"1\" class=\"dataframe\">\n",
       "  <thead>\n",
       "    <tr style=\"text-align: right;\">\n",
       "      <th></th>\n",
       "      <th>tweets</th>\n",
       "      <th>labels</th>\n",
       "    </tr>\n",
       "  </thead>\n",
       "  <tbody>\n",
       "    <tr>\n",
       "      <th>0</th>\n",
       "      <td>nasi liwet asep stroberi 1 yang terletak di ja...</td>\n",
       "      <td>positive</td>\n",
       "    </tr>\n",
       "    <tr>\n",
       "      <th>1</th>\n",
       "      <td>tolong dipercepat lagi pengiriman nya .</td>\n",
       "      <td>negative</td>\n",
       "    </tr>\n",
       "    <tr>\n",
       "      <th>2</th>\n",
       "      <td>handphone saya lenovo , kecemplung di comberan...</td>\n",
       "      <td>positive</td>\n",
       "    </tr>\n",
       "    <tr>\n",
       "      <th>3</th>\n",
       "      <td>ini suki and barbeque versi murah meriah . lum...</td>\n",
       "      <td>positive</td>\n",
       "    </tr>\n",
       "    <tr>\n",
       "      <th>4</th>\n",
       "      <td>mau melihat bandung dari atas ? nah ini tempat...</td>\n",
       "      <td>positive</td>\n",
       "    </tr>\n",
       "    <tr>\n",
       "      <th>...</th>\n",
       "      <td>...</td>\n",
       "      <td>...</td>\n",
       "    </tr>\n",
       "    <tr>\n",
       "      <th>1095</th>\n",
       "      <td>mau petik stroberi nya tetapi ternyata sedang ...</td>\n",
       "      <td>positive</td>\n",
       "    </tr>\n",
       "    <tr>\n",
       "      <th>1096</th>\n",
       "      <td>yang benar saja masa nomer whatsapp saya di bl...</td>\n",
       "      <td>negative</td>\n",
       "    </tr>\n",
       "    <tr>\n",
       "      <th>1097</th>\n",
       "      <td>food court yang memiliki berbagai macam piliha...</td>\n",
       "      <td>positive</td>\n",
       "    </tr>\n",
       "    <tr>\n",
       "      <th>1098</th>\n",
       "      <td>gorengan basi dihidangkan , selera murahan</td>\n",
       "      <td>negative</td>\n",
       "    </tr>\n",
       "    <tr>\n",
       "      <th>1099</th>\n",
       "      <td>negara indonesia terancam bangkrut .</td>\n",
       "      <td>negative</td>\n",
       "    </tr>\n",
       "  </tbody>\n",
       "</table>\n",
       "<p>1100 rows × 2 columns</p>\n",
       "</div>"
      ],
      "text/plain": [
       "                                                 tweets    labels\n",
       "0     nasi liwet asep stroberi 1 yang terletak di ja...  positive\n",
       "1               tolong dipercepat lagi pengiriman nya .  negative\n",
       "2     handphone saya lenovo , kecemplung di comberan...  positive\n",
       "3     ini suki and barbeque versi murah meriah . lum...  positive\n",
       "4     mau melihat bandung dari atas ? nah ini tempat...  positive\n",
       "...                                                 ...       ...\n",
       "1095  mau petik stroberi nya tetapi ternyata sedang ...  positive\n",
       "1096  yang benar saja masa nomer whatsapp saya di bl...  negative\n",
       "1097  food court yang memiliki berbagai macam piliha...  positive\n",
       "1098         gorengan basi dihidangkan , selera murahan  negative\n",
       "1099               negara indonesia terancam bangkrut .  negative\n",
       "\n",
       "[1100 rows x 2 columns]"
      ]
     },
     "execution_count": 76,
     "metadata": {},
     "output_type": "execute_result"
    }
   ],
   "source": [
    "df_test"
   ]
  },
  {
   "cell_type": "code",
   "execution_count": 77,
   "metadata": {},
   "outputs": [
    {
     "name": "stdout",
     "output_type": "stream",
     "text": [
      "                                                  tweets    labels\n",
      "0      tempat yang nyaman untuk berkumpul dengan tema...  positive\n",
      "1      memang banyak bacot sih , omongan doang gede b...  negative\n",
      "2      buat yang berkunjung ke bandung , yang ingin m...  positive\n",
      "3      restoran menyajikan makanan khas sunda yang en...  positive\n",
      "4      kalau travelling ke bandung , wajib makan bata...  positive\n",
      "...                                                  ...       ...\n",
      "17365  wagub sandiuno : metro tv jangan fake news men...   neutral\n",
      "17366  saya ingat banyak sekali dulu yang bertubi-ber...   neutral\n",
      "17367    rumah itu memiliki pagar besar berwarna hitam .   neutral\n",
      "17368  usung khofifah - emil , demokrat jalin komunik...   neutral\n",
      "17369  ganjar tak ingin ambil pusing walaupun banyak ...   neutral\n",
      "\n",
      "[17370 rows x 2 columns]                                                  tweets    labels\n",
      "0     nasi liwet asep stroberi 1 yang terletak di ja...  positive\n",
      "1               tolong dipercepat lagi pengiriman nya .  negative\n",
      "2     handphone saya lenovo , kecemplung di comberan...  positive\n",
      "3     ini suki and barbeque versi murah meriah . lum...  positive\n",
      "4     mau melihat bandung dari atas ? nah ini tempat...  positive\n",
      "...                                                 ...       ...\n",
      "1095  mau petik stroberi nya tetapi ternyata sedang ...  positive\n",
      "1096  yang benar saja masa nomer whatsapp saya di bl...  negative\n",
      "1097  food court yang memiliki berbagai macam piliha...  positive\n",
      "1098         gorengan basi dihidangkan , selera murahan  negative\n",
      "1099               negara indonesia terancam bangkrut .  negative\n",
      "\n",
      "[1100 rows x 2 columns]\n"
     ]
    }
   ],
   "source": [
    "print(df_train, df_test)"
   ]
  },
  {
   "cell_type": "code",
   "execution_count": 78,
   "metadata": {},
   "outputs": [],
   "source": [
    "def cleansing(text):\n",
    "    # Make sentence being lowercase\n",
    "    text = text.lower()\n",
    "\n",
    "    # Remove user, rt, \\n, retweet, \\t, url, xd\n",
    "    pattern_1 = r'(user|retweet|\\\\t|\\\\r|url|xd)'\n",
    "    text = re.sub(pattern_1, '', text)\n",
    "\n",
    "    # Remove mention\n",
    "    pattern_2 = r'@[^\\s]+'\n",
    "    text = re.sub(pattern_2, '', text)\n",
    "\n",
    "    # Remove hashtag\n",
    "    pattern_3 = r'#([^\\s]+)'\n",
    "    text = re.sub(pattern_3, '', text)\n",
    "\n",
    "    # Remove general punctuation, math operation char, etc.\n",
    "    pattern_4 = r'[\\,\\@\\*\\_\\-\\!\\:\\;\\?\\'\\.\\\"\\)\\(\\{\\}\\<\\>\\+\\%\\$\\^\\#\\/\\`\\~\\|\\&\\|]'\n",
    "    text = re.sub(pattern_4, ' ', text)\n",
    "\n",
    "    # Remove single character\n",
    "    pattern_5 = r'\\b\\w{1,3}\\b'\n",
    "    text = re.sub(pattern_5, '', text)\n",
    "\n",
    "    # Remove emoji\n",
    "    pattern_6 = r'\\\\[a-z0-9]{1,5}'\n",
    "    text = re.sub(pattern_6, '', text)\n",
    "\n",
    "    # Remove digit character\n",
    "    pattern_7 = r'\\d+'\n",
    "    text = re.sub(pattern_7, '', text)\n",
    "\n",
    "    # Remove url start with http or https\n",
    "    pattern_8 = r'(https|https:)'\n",
    "    text = re.sub(pattern_8, '', text)\n",
    "\n",
    "    # Remove (\\); ([); (])\n",
    "    pattern_9 = r'[\\\\\\]\\[]'\n",
    "    text = re.sub(pattern_9, '', text)\n",
    "\n",
    "    # Remove character non ASCII\n",
    "    pattern_10 = r'[^\\x00-\\x7f]'\n",
    "    text = re.sub(pattern_10, '', text)\n",
    "\n",
    "    # Remove character non ASCII\n",
    "    pattern_11 = r'(\\\\u[0-9A-Fa-f]+)'\n",
    "    text = re.sub(pattern_11, '', text)\n",
    "\n",
    "    # Remove multiple whitespace\n",
    "    pattern_12 = r'(\\s+|\\\\n)'\n",
    "    text = re.sub(pattern_12, ' ', text)\n",
    "    \n",
    "    # Remove whitespace at the first and end sentences\n",
    "    text = text.rstrip()\n",
    "    text = text.lstrip()\n",
    "    return text\n",
    "\n",
    "def tokenisasi(text):\n",
    "    tokens = nltk.tokenize.word_tokenize(text)\n",
    "    return tokens"
   ]
  },
  {
   "cell_type": "code",
   "execution_count": 79,
   "metadata": {},
   "outputs": [],
   "source": [
    "df_train['clean_tweets'] = df_train['tweets'].apply(cleansing)\n",
    "df_test['clean_tweets'] = df_test['tweets'].apply(cleansing)"
   ]
  },
  {
   "cell_type": "code",
   "execution_count": 80,
   "metadata": {},
   "outputs": [],
   "source": [
    "df_train['word_tokens'] = df_train['clean_tweets'].apply(tokenisasi)\n",
    "df_test['word_tokens'] = df_test['clean_tweets'].apply(tokenisasi)"
   ]
  },
  {
   "cell_type": "code",
   "execution_count": 81,
   "metadata": {},
   "outputs": [
    {
     "data": {
      "text/html": [
       "<div>\n",
       "<style scoped>\n",
       "    .dataframe tbody tr th:only-of-type {\n",
       "        vertical-align: middle;\n",
       "    }\n",
       "\n",
       "    .dataframe tbody tr th {\n",
       "        vertical-align: top;\n",
       "    }\n",
       "\n",
       "    .dataframe thead th {\n",
       "        text-align: right;\n",
       "    }\n",
       "</style>\n",
       "<table border=\"1\" class=\"dataframe\">\n",
       "  <thead>\n",
       "    <tr style=\"text-align: right;\">\n",
       "      <th></th>\n",
       "      <th>clean_tweets</th>\n",
       "    </tr>\n",
       "  </thead>\n",
       "  <tbody>\n",
       "    <tr>\n",
       "      <th>0</th>\n",
       "      <td>tempat yang nyaman untuk berkumpul dengan tema...</td>\n",
       "    </tr>\n",
       "    <tr>\n",
       "      <th>1</th>\n",
       "      <td>memang banyak bacot omongan doang gede bocah k...</td>\n",
       "    </tr>\n",
       "    <tr>\n",
       "      <th>2</th>\n",
       "      <td>buat yang berkunjung bandung yang ingin mencob...</td>\n",
       "    </tr>\n",
       "    <tr>\n",
       "      <th>3</th>\n",
       "      <td>restoran menyajikan makanan khas sunda yang en...</td>\n",
       "    </tr>\n",
       "    <tr>\n",
       "      <th>4</th>\n",
       "      <td>kalau travelling bandung wajib makan batagor r...</td>\n",
       "    </tr>\n",
       "    <tr>\n",
       "      <th>5</th>\n",
       "      <td>mengurus kampung menata kota demiz demul ahli</td>\n",
       "    </tr>\n",
       "    <tr>\n",
       "      <th>6</th>\n",
       "      <td>menyajikan aneka macam ikan bakar disajikan de...</td>\n",
       "    </tr>\n",
       "    <tr>\n",
       "      <th>7</th>\n",
       "      <td>terletak jalan cipaganti bandung seberang bens...</td>\n",
       "    </tr>\n",
       "    <tr>\n",
       "      <th>8</th>\n",
       "      <td>jokowi adalah satu satunya presiden yang tidak...</td>\n",
       "    </tr>\n",
       "    <tr>\n",
       "      <th>9</th>\n",
       "      <td>alhamdulillah</td>\n",
       "    </tr>\n",
       "  </tbody>\n",
       "</table>\n",
       "</div>"
      ],
      "text/plain": [
       "                                        clean_tweets\n",
       "0  tempat yang nyaman untuk berkumpul dengan tema...\n",
       "1  memang banyak bacot omongan doang gede bocah k...\n",
       "2  buat yang berkunjung bandung yang ingin mencob...\n",
       "3  restoran menyajikan makanan khas sunda yang en...\n",
       "4  kalau travelling bandung wajib makan batagor r...\n",
       "5      mengurus kampung menata kota demiz demul ahli\n",
       "6  menyajikan aneka macam ikan bakar disajikan de...\n",
       "7  terletak jalan cipaganti bandung seberang bens...\n",
       "8  jokowi adalah satu satunya presiden yang tidak...\n",
       "9                                      alhamdulillah"
      ]
     },
     "execution_count": 81,
     "metadata": {},
     "output_type": "execute_result"
    }
   ],
   "source": [
    "df_train[['clean_tweets']][0:10]"
   ]
  },
  {
   "cell_type": "markdown",
   "metadata": {},
   "source": [
    "## One Hot Encoding"
   ]
  },
  {
   "cell_type": "code",
   "execution_count": 82,
   "metadata": {},
   "outputs": [
    {
     "data": {
      "text/html": [
       "<div>\n",
       "<style scoped>\n",
       "    .dataframe tbody tr th:only-of-type {\n",
       "        vertical-align: middle;\n",
       "    }\n",
       "\n",
       "    .dataframe tbody tr th {\n",
       "        vertical-align: top;\n",
       "    }\n",
       "\n",
       "    .dataframe thead th {\n",
       "        text-align: right;\n",
       "    }\n",
       "</style>\n",
       "<table border=\"1\" class=\"dataframe\">\n",
       "  <thead>\n",
       "    <tr style=\"text-align: right;\">\n",
       "      <th></th>\n",
       "      <th>tweets</th>\n",
       "      <th>labels</th>\n",
       "      <th>clean_tweets</th>\n",
       "      <th>word_tokens</th>\n",
       "      <th>label_encode</th>\n",
       "    </tr>\n",
       "  </thead>\n",
       "  <tbody>\n",
       "    <tr>\n",
       "      <th>0</th>\n",
       "      <td>tempat yang nyaman untuk berkumpul dengan tema...</td>\n",
       "      <td>positive</td>\n",
       "      <td>tempat yang nyaman untuk berkumpul dengan tema...</td>\n",
       "      <td>[tempat, yang, nyaman, untuk, berkumpul, denga...</td>\n",
       "      <td>2</td>\n",
       "    </tr>\n",
       "    <tr>\n",
       "      <th>1</th>\n",
       "      <td>memang banyak bacot sih , omongan doang gede b...</td>\n",
       "      <td>negative</td>\n",
       "      <td>memang banyak bacot omongan doang gede bocah k...</td>\n",
       "      <td>[memang, banyak, bacot, omongan, doang, gede, ...</td>\n",
       "      <td>0</td>\n",
       "    </tr>\n",
       "    <tr>\n",
       "      <th>2</th>\n",
       "      <td>buat yang berkunjung ke bandung , yang ingin m...</td>\n",
       "      <td>positive</td>\n",
       "      <td>buat yang berkunjung bandung yang ingin mencob...</td>\n",
       "      <td>[buat, yang, berkunjung, bandung, yang, ingin,...</td>\n",
       "      <td>2</td>\n",
       "    </tr>\n",
       "    <tr>\n",
       "      <th>3</th>\n",
       "      <td>restoran menyajikan makanan khas sunda yang en...</td>\n",
       "      <td>positive</td>\n",
       "      <td>restoran menyajikan makanan khas sunda yang en...</td>\n",
       "      <td>[restoran, menyajikan, makanan, khas, sunda, y...</td>\n",
       "      <td>2</td>\n",
       "    </tr>\n",
       "    <tr>\n",
       "      <th>4</th>\n",
       "      <td>kalau travelling ke bandung , wajib makan bata...</td>\n",
       "      <td>positive</td>\n",
       "      <td>kalau travelling bandung wajib makan batagor r...</td>\n",
       "      <td>[kalau, travelling, bandung, wajib, makan, bat...</td>\n",
       "      <td>2</td>\n",
       "    </tr>\n",
       "  </tbody>\n",
       "</table>\n",
       "</div>"
      ],
      "text/plain": [
       "                                              tweets    labels  \\\n",
       "0  tempat yang nyaman untuk berkumpul dengan tema...  positive   \n",
       "1  memang banyak bacot sih , omongan doang gede b...  negative   \n",
       "2  buat yang berkunjung ke bandung , yang ingin m...  positive   \n",
       "3  restoran menyajikan makanan khas sunda yang en...  positive   \n",
       "4  kalau travelling ke bandung , wajib makan bata...  positive   \n",
       "\n",
       "                                        clean_tweets  \\\n",
       "0  tempat yang nyaman untuk berkumpul dengan tema...   \n",
       "1  memang banyak bacot omongan doang gede bocah k...   \n",
       "2  buat yang berkunjung bandung yang ingin mencob...   \n",
       "3  restoran menyajikan makanan khas sunda yang en...   \n",
       "4  kalau travelling bandung wajib makan batagor r...   \n",
       "\n",
       "                                         word_tokens  label_encode  \n",
       "0  [tempat, yang, nyaman, untuk, berkumpul, denga...             2  \n",
       "1  [memang, banyak, bacot, omongan, doang, gede, ...             0  \n",
       "2  [buat, yang, berkunjung, bandung, yang, ingin,...             2  \n",
       "3  [restoran, menyajikan, makanan, khas, sunda, y...             2  \n",
       "4  [kalau, travelling, bandung, wajib, makan, bat...             2  "
      ]
     },
     "metadata": {},
     "output_type": "display_data"
    },
    {
     "name": "stdout",
     "output_type": "stream",
     "text": [
      "tweets          object\n",
      "labels          object\n",
      "clean_tweets    object\n",
      "word_tokens     object\n",
      "label_encode     int32\n",
      "dtype: object\n"
     ]
    }
   ],
   "source": [
    "le = LabelEncoder()\n",
    "\n",
    "df_train['label_encode'] = le.fit_transform(df_train['labels'])\n",
    "df_test['label_encode'] = le.transform(df_test['labels'])\n",
    "\n",
    "display(df_train.head())\n",
    "\n",
    "print(df_train.dtypes)"
   ]
  },
  {
   "cell_type": "code",
   "execution_count": 83,
   "metadata": {},
   "outputs": [
    {
     "data": {
      "text/plain": [
       "tweets          0\n",
       "labels          0\n",
       "clean_tweets    0\n",
       "word_tokens     0\n",
       "label_encode    0\n",
       "dtype: int64"
      ]
     },
     "execution_count": 83,
     "metadata": {},
     "output_type": "execute_result"
    }
   ],
   "source": [
    "df_train.isna().sum()"
   ]
  },
  {
   "cell_type": "code",
   "execution_count": 84,
   "metadata": {},
   "outputs": [],
   "source": [
    "# Menggabungkan setiap elemen dalam kolom 'word_tokens' menjadi satu string\n",
    "df_train['string_tokens'] = df_train['word_tokens'].apply(' '.join)"
   ]
  },
  {
   "cell_type": "code",
   "execution_count": 85,
   "metadata": {},
   "outputs": [
    {
     "data": {
      "text/html": [
       "<div>\n",
       "<style scoped>\n",
       "    .dataframe tbody tr th:only-of-type {\n",
       "        vertical-align: middle;\n",
       "    }\n",
       "\n",
       "    .dataframe tbody tr th {\n",
       "        vertical-align: top;\n",
       "    }\n",
       "\n",
       "    .dataframe thead th {\n",
       "        text-align: right;\n",
       "    }\n",
       "</style>\n",
       "<table border=\"1\" class=\"dataframe\">\n",
       "  <thead>\n",
       "    <tr style=\"text-align: right;\">\n",
       "      <th></th>\n",
       "      <th>tweets</th>\n",
       "      <th>labels</th>\n",
       "      <th>clean_tweets</th>\n",
       "      <th>word_tokens</th>\n",
       "      <th>label_encode</th>\n",
       "      <th>string_tokens</th>\n",
       "    </tr>\n",
       "  </thead>\n",
       "  <tbody>\n",
       "    <tr>\n",
       "      <th>0</th>\n",
       "      <td>tempat yang nyaman untuk berkumpul dengan tema...</td>\n",
       "      <td>positive</td>\n",
       "      <td>tempat yang nyaman untuk berkumpul dengan tema...</td>\n",
       "      <td>[tempat, yang, nyaman, untuk, berkumpul, denga...</td>\n",
       "      <td>2</td>\n",
       "      <td>tempat yang nyaman untuk berkumpul dengan tema...</td>\n",
       "    </tr>\n",
       "    <tr>\n",
       "      <th>1</th>\n",
       "      <td>memang banyak bacot sih , omongan doang gede b...</td>\n",
       "      <td>negative</td>\n",
       "      <td>memang banyak bacot omongan doang gede bocah k...</td>\n",
       "      <td>[memang, banyak, bacot, omongan, doang, gede, ...</td>\n",
       "      <td>0</td>\n",
       "      <td>memang banyak bacot omongan doang gede bocah k...</td>\n",
       "    </tr>\n",
       "    <tr>\n",
       "      <th>2</th>\n",
       "      <td>buat yang berkunjung ke bandung , yang ingin m...</td>\n",
       "      <td>positive</td>\n",
       "      <td>buat yang berkunjung bandung yang ingin mencob...</td>\n",
       "      <td>[buat, yang, berkunjung, bandung, yang, ingin,...</td>\n",
       "      <td>2</td>\n",
       "      <td>buat yang berkunjung bandung yang ingin mencob...</td>\n",
       "    </tr>\n",
       "    <tr>\n",
       "      <th>3</th>\n",
       "      <td>restoran menyajikan makanan khas sunda yang en...</td>\n",
       "      <td>positive</td>\n",
       "      <td>restoran menyajikan makanan khas sunda yang en...</td>\n",
       "      <td>[restoran, menyajikan, makanan, khas, sunda, y...</td>\n",
       "      <td>2</td>\n",
       "      <td>restoran menyajikan makanan khas sunda yang en...</td>\n",
       "    </tr>\n",
       "    <tr>\n",
       "      <th>4</th>\n",
       "      <td>kalau travelling ke bandung , wajib makan bata...</td>\n",
       "      <td>positive</td>\n",
       "      <td>kalau travelling bandung wajib makan batagor r...</td>\n",
       "      <td>[kalau, travelling, bandung, wajib, makan, bat...</td>\n",
       "      <td>2</td>\n",
       "      <td>kalau travelling bandung wajib makan batagor r...</td>\n",
       "    </tr>\n",
       "    <tr>\n",
       "      <th>...</th>\n",
       "      <td>...</td>\n",
       "      <td>...</td>\n",
       "      <td>...</td>\n",
       "      <td>...</td>\n",
       "      <td>...</td>\n",
       "      <td>...</td>\n",
       "    </tr>\n",
       "    <tr>\n",
       "      <th>17365</th>\n",
       "      <td>wagub sandiuno : metro tv jangan fake news men...</td>\n",
       "      <td>neutral</td>\n",
       "      <td>wagub sandiuno metro jangan fake news mengikut...</td>\n",
       "      <td>[wagub, sandiuno, metro, jangan, fake, news, m...</td>\n",
       "      <td>1</td>\n",
       "      <td>wagub sandiuno metro jangan fake news mengikut...</td>\n",
       "    </tr>\n",
       "    <tr>\n",
       "      <th>17366</th>\n",
       "      <td>saya ingat banyak sekali dulu yang bertubi-ber...</td>\n",
       "      <td>neutral</td>\n",
       "      <td>saya ingat banyak sekali dulu yang bertubi ber...</td>\n",
       "      <td>[saya, ingat, banyak, sekali, dulu, yang, bert...</td>\n",
       "      <td>1</td>\n",
       "      <td>saya ingat banyak sekali dulu yang bertubi ber...</td>\n",
       "    </tr>\n",
       "    <tr>\n",
       "      <th>17367</th>\n",
       "      <td>rumah itu memiliki pagar besar berwarna hitam .</td>\n",
       "      <td>neutral</td>\n",
       "      <td>rumah memiliki pagar besar berwarna hitam</td>\n",
       "      <td>[rumah, memiliki, pagar, besar, berwarna, hitam]</td>\n",
       "      <td>1</td>\n",
       "      <td>rumah memiliki pagar besar berwarna hitam</td>\n",
       "    </tr>\n",
       "    <tr>\n",
       "      <th>17368</th>\n",
       "      <td>usung khofifah - emil , demokrat jalin komunik...</td>\n",
       "      <td>neutral</td>\n",
       "      <td>usung khofifah emil demokrat jalin komunikasi ...</td>\n",
       "      <td>[usung, khofifah, emil, demokrat, jalin, komun...</td>\n",
       "      <td>1</td>\n",
       "      <td>usung khofifah emil demokrat jalin komunikasi ...</td>\n",
       "    </tr>\n",
       "    <tr>\n",
       "      <th>17369</th>\n",
       "      <td>ganjar tak ingin ambil pusing walaupun banyak ...</td>\n",
       "      <td>neutral</td>\n",
       "      <td>ganjar ingin ambil pusing walaupun banyak jago...</td>\n",
       "      <td>[ganjar, ingin, ambil, pusing, walaupun, banya...</td>\n",
       "      <td>1</td>\n",
       "      <td>ganjar ingin ambil pusing walaupun banyak jago...</td>\n",
       "    </tr>\n",
       "  </tbody>\n",
       "</table>\n",
       "<p>17370 rows × 6 columns</p>\n",
       "</div>"
      ],
      "text/plain": [
       "                                                  tweets    labels  \\\n",
       "0      tempat yang nyaman untuk berkumpul dengan tema...  positive   \n",
       "1      memang banyak bacot sih , omongan doang gede b...  negative   \n",
       "2      buat yang berkunjung ke bandung , yang ingin m...  positive   \n",
       "3      restoran menyajikan makanan khas sunda yang en...  positive   \n",
       "4      kalau travelling ke bandung , wajib makan bata...  positive   \n",
       "...                                                  ...       ...   \n",
       "17365  wagub sandiuno : metro tv jangan fake news men...   neutral   \n",
       "17366  saya ingat banyak sekali dulu yang bertubi-ber...   neutral   \n",
       "17367    rumah itu memiliki pagar besar berwarna hitam .   neutral   \n",
       "17368  usung khofifah - emil , demokrat jalin komunik...   neutral   \n",
       "17369  ganjar tak ingin ambil pusing walaupun banyak ...   neutral   \n",
       "\n",
       "                                            clean_tweets  \\\n",
       "0      tempat yang nyaman untuk berkumpul dengan tema...   \n",
       "1      memang banyak bacot omongan doang gede bocah k...   \n",
       "2      buat yang berkunjung bandung yang ingin mencob...   \n",
       "3      restoran menyajikan makanan khas sunda yang en...   \n",
       "4      kalau travelling bandung wajib makan batagor r...   \n",
       "...                                                  ...   \n",
       "17365  wagub sandiuno metro jangan fake news mengikut...   \n",
       "17366  saya ingat banyak sekali dulu yang bertubi ber...   \n",
       "17367          rumah memiliki pagar besar berwarna hitam   \n",
       "17368  usung khofifah emil demokrat jalin komunikasi ...   \n",
       "17369  ganjar ingin ambil pusing walaupun banyak jago...   \n",
       "\n",
       "                                             word_tokens  label_encode  \\\n",
       "0      [tempat, yang, nyaman, untuk, berkumpul, denga...             2   \n",
       "1      [memang, banyak, bacot, omongan, doang, gede, ...             0   \n",
       "2      [buat, yang, berkunjung, bandung, yang, ingin,...             2   \n",
       "3      [restoran, menyajikan, makanan, khas, sunda, y...             2   \n",
       "4      [kalau, travelling, bandung, wajib, makan, bat...             2   \n",
       "...                                                  ...           ...   \n",
       "17365  [wagub, sandiuno, metro, jangan, fake, news, m...             1   \n",
       "17366  [saya, ingat, banyak, sekali, dulu, yang, bert...             1   \n",
       "17367   [rumah, memiliki, pagar, besar, berwarna, hitam]             1   \n",
       "17368  [usung, khofifah, emil, demokrat, jalin, komun...             1   \n",
       "17369  [ganjar, ingin, ambil, pusing, walaupun, banya...             1   \n",
       "\n",
       "                                           string_tokens  \n",
       "0      tempat yang nyaman untuk berkumpul dengan tema...  \n",
       "1      memang banyak bacot omongan doang gede bocah k...  \n",
       "2      buat yang berkunjung bandung yang ingin mencob...  \n",
       "3      restoran menyajikan makanan khas sunda yang en...  \n",
       "4      kalau travelling bandung wajib makan batagor r...  \n",
       "...                                                  ...  \n",
       "17365  wagub sandiuno metro jangan fake news mengikut...  \n",
       "17366  saya ingat banyak sekali dulu yang bertubi ber...  \n",
       "17367          rumah memiliki pagar besar berwarna hitam  \n",
       "17368  usung khofifah emil demokrat jalin komunikasi ...  \n",
       "17369  ganjar ingin ambil pusing walaupun banyak jago...  \n",
       "\n",
       "[17370 rows x 6 columns]"
      ]
     },
     "execution_count": 85,
     "metadata": {},
     "output_type": "execute_result"
    }
   ],
   "source": [
    "df_train"
   ]
  },
  {
   "attachments": {},
   "cell_type": "markdown",
   "metadata": {},
   "source": [
    "## Cek kata-kata dalam data frame yang tergolong ke dalam Outlier"
   ]
  },
  {
   "cell_type": "code",
   "execution_count": 86,
   "metadata": {},
   "outputs": [
    {
     "name": "stdout",
     "output_type": "stream",
     "text": [
      "[('yang', 10614), ('tidak', 5871), ('saya', 5316), ('dengan', 4700), ('untuk', 3999), ('enak', 3613), ('makanan', 3541), ('tempat', 3459), ('makan', 2894), ('juga', 2685)]\n",
      "[('terluhatn', 1), ('cakkan', 1), ('tenar', 1), ('bergeser', 1), ('samalah', 1), ('kantuk', 1), ('baron', 1), ('siini', 1), ('ayoo', 1), ('setinggi', 1), ('sebegitu', 1), ('kecina', 1), ('pendahulu', 1), ('perencanaan', 1), ('topoki', 1), ('tots', 1), ('persentasi', 1), ('dekade', 1), ('terobosan', 1), ('vegan', 1), ('mengingkari', 1), ('khayalan', 1), ('kemakmuran', 1), ('resstoran', 1), ('memperbolehkan', 1), ('diputar', 1), ('busyeng', 1), ('tamusu', 1), ('chkcken', 1), ('seret', 1), ('knuc', 1), ('hooq', 1), ('musti', 1), ('disni', 1), ('preference', 1), ('slightly', 1), ('retas', 1), ('rieke', 1), ('nopember', 1), ('berteriak', 1), ('patwal', 1), ('culinary', 1), ('night', 1), ('odjolali', 1), ('kampun', 1), ('mesh', 1), ('dipenjuru', 1), ('wijilan', 1), ('dapet', 1), ('wusss', 1), ('andong', 1), ('foreign', 1), ('chitato', 1), ('pelihara', 1), ('dirusak', 1), ('supporter', 1), ('membulat', 1), ('temapat', 1), ('tersinpisrasi', 1), ('jeda', 1), ('terjankau', 1), ('sentrasari', 1), ('twice', 1), ('melt', 1), ('porridge', 1), ('piero', 1), ('jogger', 1), ('denim', 1), ('navy', 1), ('mulas', 1), ('pelayann', 1), ('kuras', 1), ('tempet', 1), ('muantap', 1), ('relatiflah', 1), ('cristiano', 1), ('ronaldo', 1), ('rani', 1), ('journey', 1), ('tirtanadi', 1), ('sosialisasi', 1), ('pemanis', 1), ('persekitran', 1), ('mengcancel', 1), ('ordderan', 1), ('itukan', 1), ('mustard', 1), ('kedahsyatan', 1), ('bday', 1), ('wiwin', 1), ('tournedos', 1), ('belgareti', 1), ('guesthouse', 1), ('musisi', 1), ('kaleyo', 1), ('klaton', 1), ('memilik', 1), ('greeter', 1), ('skippy', 1), ('sarat', 1), ('lost', 1), ('interlokal', 1), ('pengunjugn', 1), ('perbincangkan', 1), ('decadence', 1), ('utmkn', 1), ('kiyadon', 1), ('dagangan', 1), ('terampil', 1), ('ciumbeleuit', 1), ('gratine', 1), ('foam', 1), ('macaroons', 1), ('worthy', 1), ('corse', 1), ('yupi', 1), ('memftnah', 1), ('sehigga', 1), ('kitchn', 1), ('loung', 1), ('negre', 1), ('insyaalloh', 1), ('saekhu', 1), ('jakrik', 1), ('padepokan', 1), ('ketel', 1), ('dawet', 1), ('steakna', 1), ('oerang', 1), ('apasalah', 1), ('desy', 1), ('superman', 1), ('souce', 1), ('lahya', 1), ('mongolian', 1), ('stars', 1), ('panaitan', 1), ('sibangke', 1), ('riziek', 1), ('zink', 1), ('firza', 1), ('bugil', 1), ('terlayani', 1), ('istiraht', 1), ('tomyan', 1), ('yanga', 1), ('diresto', 1), ('karubi', 1), ('berdesain', 1), ('panggan', 1), ('dihotel', 1), ('artiste', 1), ('perum', 1), ('mentari', 1), ('tinderloin', 1), ('baliu', 1), ('oily', 1), ('perbelajaan', 1), ('nolah', 1), ('motorlah', 1), ('gempor', 1), ('insyaaallah', 1), ('acapkali', 1), ('lingling', 1), ('kruk', 1), ('mengecas', 1), ('ditebus', 1), ('merencanakan', 1), ('dibagikan', 1), ('buak', 1), ('dilanggar', 1), ('nnton', 1), ('travelers', 1), ('bagur', 1), ('penyortiran', 1), ('caleg', 1), ('tahilah', 1), ('maualana', 1), ('nunggak', 1), ('kalio', 1), ('hill', 1), ('attraksi', 1), ('yamme', 1), ('dilapisan', 1), ('intetior', 1), ('pagawai', 1), ('jontor', 1), ('jerigen', 1), ('pengecer', 1), ('bagimana', 1), ('tinambung', 1), ('polman', 1), ('creeme', 1), ('kemauan', 1), ('menagihkan', 1), ('diekspos', 1), ('sing', 1), ('nature', 1), ('bergantungan', 1), ('termahal', 1), ('bandng', 1), ('westren', 1), ('haurpancuh', 1), ('mantapp', 1), ('terrace', 1), ('stawberry', 1), ('marmelaide', 1), ('pokatiam', 1), ('kapoklah', 1), ('berbakti', 1), ('gercik', 1), ('ngeliatinjalan', 1), ('poka', 1), ('radler', 1), ('mengigit', 1), ('sejuak', 1), ('mengetuk', 1), ('berkelompok', 1), ('palayanan', 1), ('entang', 1), ('library', 1), ('disandingkan', 1), ('republic', 1), ('seribuan', 1), ('sticks', 1), ('memisahkan', 1), ('kayuan', 1), ('manado', 1), ('heritages', 1), ('huzarensla', 1), ('croquette', 1), ('mocacino', 1), ('lebah', 1), ('membentur', 1), ('dibanting', 1), ('behel', 1), ('gemas', 1), ('lubur', 1), ('pelimik', 1), ('ikhlaslah', 1), ('ketimun', 1), ('pofferjes', 1), ('panekuk', 1), ('kedisplinan', 1), ('dipujikan', 1), ('berduit', 1), ('investment', 1), ('sewakan', 1), ('teruskan', 1), ('menindas', 1), ('berkemampuan', 1), ('tjokroaminoto', 1), ('permudahkan', 1), ('saan', 1), ('membiasakan', 1), ('diperdebatkan', 1), ('somai', 1), ('apa', 1), ('cool', 1), ('berprasangka', 1), ('ngalor', 1), ('ngidul', 1), ('handmade', 1), ('mcam', 1), ('buffee', 1), ('kukuh', 1), ('meruntuhkan', 1), ('diembeli', 1), ('restu', 1), ('schinitzel', 1), ('cozzy', 1), ('sheraton', 1), ('diputuskan', 1), ('virgin', 1), ('maxis', 1), ('derik', 1), ('serangga', 1), ('andan', 1), ('logam', 1), ('ngeladenin', 1), ('supp', 1), ('wang', 1), ('pengundi', 1), ('mempersendakan', 1), ('menyicipi', 1), ('direschedule', 1), ('gubernuran', 1), ('penyebrangan', 1), ('sayangat', 1), ('selimuti', 1), ('sepuluh', 1), ('naas', 1), ('masala', 1), ('memasuk', 1), ('dijiplak', 1), ('diracun', 1), ('hipersex', 1), ('disikat', 1), ('menantu', 1), ('ewek', 1), ('kidang', 1), ('pananjung', 1), ('snitzel', 1), ('tongue', 1), ('dusuguhi', 1), ('harvest', 1), ('buahbatu', 1), ('untungkan', 1), ('ketergantungan', 1), ('sahaja', 1), ('lelang', 1), ('tengku', 1), ('soulkustik', 1), ('diawaki', 1), ('silahkan', 1), ('demokratlah', 1), ('terdidik', 1), ('bing', 1), ('berbukit', 1), ('rudy', 1), ('melody', 1), ('echo', 1), ('chamber', 1), ('pyschedelic', 1), ('shoegazing', 1), ('kevin', 1), ('tame', 1), ('impala', 1), ('salin', 1), ('tempel', 1), ('layu', 1), ('dictator', 1), ('sebel', 1), ('pattiseries', 1), ('tersaingi', 1), ('vendor', 1), ('menginjakkan', 1), ('debgan', 1), ('yumy', 1), ('chewy', 1), ('gangster', 1), ('merisaukan', 1), ('magnum', 1), ('mozza', 1), ('idealcut', 1), ('healing', 1), ('penah', 1), ('bermodal', 1), ('mendongkrak', 1), ('diseberang', 1), ('sorry', 1), ('guriih', 1), ('menyenengil', 1), ('peyeum', 1), ('teriyake', 1), ('penyuguhan', 1), ('krang', 1), ('kring', 1), ('ditumis', 1), ('chow', 1), ('mengorderkan', 1), ('reataurant', 1), ('lantar', 1), ('semangkok', 1), ('dihisap', 1), ('dosis', 1), ('semantap', 1), ('halusinasi', 1), ('egaliter', 1), ('condet', 1), ('biasalah', 1), ('pemalang', 1), ('workshop', 1), ('briefing', 1), ('maniak', 1), ('capuchino', 1), ('firewings', 1), ('nampol', 1), ('goulahs', 1), ('bugis', 1), ('bengis', 1), ('berpenampilan', 1), ('jengah', 1), ('jokowo', 1), ('menurunkan', 1), ('celimpungan', 1), ('anneka', 1), ('saffron', 1), ('rebusan', 1), ('penyelamat', 1), ('everyone', 1), ('loves', 1), ('menyegerakan', 1), ('kematian', 1), ('menggagalkan', 1), ('kebuli', 1), ('asliiiiii', 1), ('vallley', 1), ('anniversarry', 1), ('menikmatin', 1), ('dimenyalakan', 1), ('sewajarnya', 1), ('lingkunan', 1), ('lintong', 1), ('sidikkalang', 1), ('beverages', 1), ('macchiato', 1), ('pana', 1), ('milkshakes', 1), ('dikebanyakan', 1), ('euforia', 1), ('kebobolan', 1), ('temap', 1), ('cushion', 1), ('pillow', 1), ('heheheh', 1), ('pascabayar', 1), ('lagoon', 1), ('bingitts', 1), ('redtoran', 1), ('lamgsung', 1), ('menhadap', 1), ('penyisihan', 1), ('mojok', 1), ('muantab', 1), ('suprisingly', 1), ('expensive', 1), ('husein', 1), ('chatuchak', 1), ('jusan', 1), ('kichen', 1), ('hadap', 1), ('great', 1), ('boejangan', 1), ('kesampean', 1), ('endues', 1), ('pirimg', 1), ('pillihan', 1), ('dipahami', 1), ('terhingga', 1), ('alpuket', 1), ('many', 1), ('trust', 1), ('stik', 1), ('cheaper', 1), ('kedengeran', 1), ('arta', 1), ('menemuka', 1), ('brantas', 1), ('terparkir', 1), ('suntuk', 1), ('baeud', 1), ('noahs', 1), ('solar', 1), ('makaanan', 1), ('jangkrik', 1), ('cendrung', 1), ('bertumpuk', 1), ('dadi', 1), ('lilitan', 1), ('buyar', 1), ('cilaki', 1), ('superhero', 1), ('bitterbalen', 1), ('contohlah', 1), ('indoesia', 1), ('kerena', 1), ('higiene', 1), ('fitness', 1), ('celebrity', 1), ('alan', 1), ('letus', 1), ('setuntas', 1), ('martabat', 1), ('didatangkan', 1), ('tersusun', 1), ('perosotan', 1), ('enga', 1), ('aqobah', 1), ('pusri', 1), ('spirit', 1), ('muhammadiyah', 1), ('ikhwan', 1), ('awaliyyun', 1), ('salafy', 1), ('alloh', 1), ('mengasyikan', 1), ('amasing', 1), ('recomment', 1), ('atandard', 1), ('naga', 1), ('tedapat', 1), ('clasic', 1), ('recipe', 1), ('juaranyalah', 1), ('acak', 1), ('instalasi', 1), ('dutch', 1), ('called', 1), ('kabohidrat', 1), ('problemlah', 1), ('keuskupan', 1), ('luxton', 1), ('valey', 1), ('ditumbuhkan', 1), ('miwir', 1), ('corong', 1), ('ngalembono', 1), ('peaceful', 1), ('sedari', 1), ('dijakarta', 1), ('terlampau', 1), ('bestik', 1), ('mlarat', 1), ('dibanjur', 1), ('dikutip', 1), ('ulangi', 1), ('skitaran', 1), ('dihadapkan', 1), ('natrian', 1), ('architecture', 1), ('keabisan', 1), ('sachlick', 1), ('kebab', 1), ('yumiiiii', 1), ('kemakan', 1), ('fully', 1), ('truly', 1), ('penginanapan', 1), ('munurut', 1), ('haraga', 1), ('singapur', 1), ('mbabro', 1), ('tato', 1), ('bergetar', 1), ('dipengaruhi', 1), ('gamelan', 1), ('abalone', 1), ('mendambakan', 1), ('tertidur', 1), ('luangkan', 1), ('beranekarasa', 1), ('strobery', 1), ('ditikungan', 1), ('preferensi', 1), ('leuwi', 1), ('bloody', 1), ('mary', 1), ('haramlah', 1), ('petak', 1), ('obyek', 1), ('bagusdi', 1), ('otong', 1), ('gibas', 1), ('melakakukan', 1), ('garem', 1), ('kopin', 1), ('nasehat', 1), ('dipaitukur', 1), ('ataupula', 1), ('sasparilla', 1), ('disuwir', 1), ('singgahi', 1), ('genial', 1), ('maksiat', 1), ('kekawah', 1), ('jawabarat', 1), ('cicipin', 1), ('menyuus', 1), ('couple', 1), ('disajikam', 1), ('suluh', 1), ('device', 1), ('prosperity', 1), ('countur', 1), ('dipermodern', 1), ('qualitas', 1), ('lego', 1), ('umpatan', 1), ('atang', 1), ('kekkian', 1), ('caysim', 1), ('minangkabau', 1), ('batokok', 1), ('sangkuring', 1), ('bersejarah', 1), ('tenis', 1), ('buatkan', 1), ('hargalah', 1), ('teknologi', 1), ('terkini', 1), ('tablet', 1), ('asiiiiin', 1), ('gelapkan', 1), ('dianalisa', 1), ('cermat', 1), ('jangarr', 1), ('mevvah', 1), ('crepes', 1), ('sejagad', 1), ('wulan', 1), ('pembatalan', 1), ('batal', 1), ('cingcau', 1), ('meskipu', 1), ('bukin', 1), ('sampireun', 1), ('asbak', 1), ('board', 1), ('lumanyan', 1), ('kuchen', 1), ('cimory', 1), ('dinner', 1), ('hostess', 1), ('tessa', 1), ('nitipin', 1), ('menjenguk', 1), ('putera', 1), ('menetap', 1), ('tenan', 1), ('fuyonghai', 1), ('naipan', 1), ('teutama', 1), ('dialiri', 1), ('segood', 1), ('merepresentasikan', 1), ('disajika', 1), ('barber', 1), ('cukur', 1), ('roppan', 1), ('sekuler', 1), ('menyengsarakan', 1), ('cone', 1), ('temanin', 1), ('terfikir', 1), ('nyamanlah', 1), ('dipunyai', 1), ('freelance', 1), ('lekas', 1), ('ketionghua', 1), ('tiau', 1), ('kaulah', 1), ('eunak', 1), ('samcam', 1), ('mengkafir', 1), ('kafirkan', 1), ('smash', 1), ('buntel', 1), ('bersuasana', 1), ('kulinerbdg', 1), ('itengah', 1), ('berkendaraan', 1), ('dream', 1), ('truk', 1), ('anniversaru', 1), ('years', 1), ('some', 1), ('when', 1), ('visited', 1), ('option', 1), ('love', 1), ('tase', 1), ('cause', 1), ('successfully', 1), ('just', 1), ('myself', 1), ('wohoo', 1), ('gedean', 1), ('pengecualian', 1), ('cocktail', 1), ('nvidblapk', 1), ('ambasador', 1), ('bene', 1), ('burgendy', 1), ('thender', 1), ('tjahjo', 1), ('bimbang', 1), ('semulajadi', 1), ('musola', 1), ('kohesi', 1), ('garap', 1), ('radjiman', 1), ('dijanji', 1), ('deberikan', 1), ('prengus', 1), ('conggo', 1), ('gallrely', 1), ('pungutan', 1), ('donalds', 1), ('thea', 1), ('kcil', 1), ('presidium', 1), ('menegakkan', 1), ('alamikan', 1), ('bouquet', 1), ('jamin', 1), ('mingguan', 1), ('wife', 1), ('parkview', 1), ('acceptable', 1), ('geologi', 1), ('americano', 1), ('appearance', 1), ('didandani', 1), ('kretivitas', 1), ('bletoka', 1), ('tegal', 1), ('elemen', 1), ('menacoba', 1), ('cikole', 1), ('stronjer', 1), ('mandangin', 1), ('berkecap', 1), ('dipresto', 1), ('eitsss', 1), ('janda', 1), ('gajeboh', 1), ('cimandiri', 1), ('doank', 1), ('fasiltas', 1), ('traveller', 1), ('direkomemdasikan', 1), ('hilangan', 1), ('pijat', 1), ('batator', 1), ('seta', 1), ('kenpa', 1), ('pollution', 1), ('gendurowo', 1), ('kedisiplinan', 1), ('pendirian', 1), ('bajing', 1), ('loncat', 1), ('leng', 1), ('phan', 1), ('tausi', 1), ('abalon', 1), ('roman', 1), ('tortilla', 1), ('nomnom', 1), ('ootd', 1), ('skywalkny', 1), ('ilmiah', 1), ('maksudkan', 1), ('mencadangkan', 1), ('others', 1), ('package', 1), ('sekeluargake', 1), ('mahalan', 1), ('diwajibkan', 1), ('dilemaskan', 1), ('dilap', 1), ('terabaikan', 1), ('austin', 1), ('intensive', 1), ('acne', 1), ('berkepanjangan', 1), ('hook', 1), ('tampilkan', 1), ('dikasir', 1), ('jugalah', 1), ('lotus', 1), ('baligo', 1), ('berlogo', 1), ('beubeuk', 1), ('memojokkan', 1), ('yenni', 1), ('leber', 1), ('ndolan', 1), ('setarah', 1), ('dibenci', 1), ('dholim', 1), ('berlabuh', 1), ('bianchi', 1), ('russo', 1), ('pineapple', 1), ('diharap', 1), ('bersabarlah', 1), ('rcti', 1), ('kjarena', 1), ('untukl', 1), ('ratalah', 1), ('packingan', 1), ('mengitari', 1), ('membangkang', 1), ('jangrik', 1), ('favehotel', 1), ('hubby', 1), ('include', 1), ('melayanai', 1), ('recomende', 1), ('panitia', 1), ('ditunjuk', 1), ('ditunjukkkan', 1), ('terhindar', 1), ('karavan', 1), ('kaderisasi', 1), ('pentolan', 1), ('tempelan', 1), ('dibiatkan', 1), ('kening', 1), ('berkerut', 1), ('infused', 1), ('bengkok', 1), ('perekor', 1), ('dibelokan', 1), ('weeekend', 1), ('enkaolshop', 1), ('ungkapkan', 1), ('annisatrh', 1), ('simpamg', 1), ('cremes', 1), ('lumayam', 1), ('berasap', 1), ('namanyanjg', 1), ('destination', 1), ('gigibrik', 1), ('ngeunah', 1), ('terdapt', 1), ('berpacaran', 1), ('melintasi', 1), ('perkuliahan', 1), ('kasta', 1), ('melahirkan', 1), ('penghalal', 1), ('aliatas', 1), ('patuha', 1), ('nder', 1), ('bermoto', 1), ('merileksasikan', 1), ('menawar', 1), ('bergantung', 1), ('tawarin', 1), ('diridhoi', 1), ('bercitarasa', 1), ('menjumpai', 1), ('belgia', 1), ('kepongahan', 1), ('looks', 1), ('liberica', 1), ('ngedimsum', 1), ('slurpppp', 1), ('hhaha', 1), ('ditato', 1), ('dikejar', 1), ('pantomim', 1), ('umpan', 1), ('tombro', 1), ('pellets', 1), ('essen', 1), ('pemancing', 1), ('popbar', 1), ('hhhaha', 1), ('komnas', 1), ('membolehkan', 1), ('mengintip', 1), ('pertamakali', 1), ('hergamanah', 1), ('favoriit', 1), ('olesan', 1), ('gobak', 1), ('menghapus', 1), ('haduuh', 1), ('direfill', 1), ('sofar', 1), ('menhabiskan', 1), ('diwaktu', 1), ('tinggian', 1), ('ciburial', 1), ('shell', 1), ('dimonopoli', 1), ('jerami', 1), ('wuooow', 1), ('dikenalkan', 1), ('zama', 1), ('hedon', 1), ('variasai', 1), ('dolo', 1), ('menyuap', 1), ('judi', 1), ('sigkong', 1), ('dipadankan', 1), ('sempah', 1), ('themed', 1), ('selection', 1), ('finger', 1), ('prihatin', 1), ('menimpa', 1), ('mhasilkn', 1), ('keluaran', 1), ('ringkas', 1), ('cengkeh', 1), ('searti', 1), ('miening', 1), ('cogfe', 1), ('tris', 1), ('macca', 1), ('honey', 1), ('lumar', 1), ('nigiri', 1), ('berlantai', 1), ('prod', 1), ('keluarg', 1), ('legends', 1), ('sebiji', 1), ('sesuapan', 1), ('dicelup', 1), ('idamkan', 1), ('guacamole', 1), ('sour', 1), ('masakkan', 1), ('amenu', 1), ('perpadua', 1), ('reunii', 1), ('dunkin', 1), ('donat', 1), ('mengelola', 1), ('kemajemukan', 1), ('kehati', 1), ('terbelah', 1), ('paintball', 1), ('oldish', 1), ('tempanya', 1), ('karenan', 1), ('nougat', 1), ('laksana', 1), ('ducka', 1), ('membimbing', 1), ('akademisi', 1), ('okinomiyaki', 1), ('diterangi', 1), ('kejengkelan', 1), ('tiupan', 1), ('keset', 1), ('bapau', 1), ('ceket', 1), ('peepaya', 1), ('kpiting', 1), ('direbus', 1), ('treasure', 1), ('haven', 1), ('merajut', 1), ('jimbon', 1), ('masyrkt', 1), ('iban', 1), ('attractive', 1), ('bertarung', 1), ('fair', 1), ('suaikhu', 1), ('rabb', 1), ('multifandom', 1), ('dibawakan', 1), ('junior', 1), ('mearasakan', 1), ('puluh', 1), ('endeus', 1), ('wonderful', 1), ('sumeragi', 1), ('iminum', 1), ('matsuri', 1), ('siaplah', 1), ('berbeque', 1), ('donald', 1), ('digerakin', 1), ('sorting', 1), ('ngirim', 1), ('toriyaki', 1), ('godzilla', 1), ('bentunk', 1), ('pltb', 1), ('perizinan', 1), ('diklaim', 1), ('brizik', 1), ('tuntaskan', 1), ('ceng', 1), ('bayarin', 1), ('tubruk', 1), ('berpasir', 1), ('kepulan', 1), ('melangkahkan', 1), ('wuaahh', 1), ('eunakkkk', 1), ('subjektif', 1), ('hainama', 1), ('pecinan', 1), ('featuring', 1), ('memorable', 1), ('baracuda', 1), ('exclude', 1), ('bertanggungjawab', 1), ('itikad', 1), ('buyer', 1), ('tergesek', 1), ('tatar', 1), ('horse', 1), ('riding', 1), ('sowan', 1), ('makanna', 1), ('funtastic', 1), ('smilingface', 1)]\n"
     ]
    },
    {
     "data": {
      "image/png": "[encoded data removed]",
      "text/plain": [
       "<Figure size 640x480 with 1 Axes>"
      ]
     },
     "metadata": {},
     "output_type": "display_data"
    }
   ],
   "source": [
    "# determine the word from df['tweet_without_stopwords'] that occurs frequently\n",
    "text = ' '.join(df_train['string_tokens'].to_list())\n",
    "freq_kata = nltk.FreqDist(nltk.word_tokenize(text))\n",
    "print(freq_kata.most_common(10))\n",
    "print(freq_kata.most_common()[-1000:]) # 10 kata paling sedikit muncul\n",
    "freq_kata.plot(10, cumulative=False)\n",
    "plt.show()"
   ]
  },
  {
   "cell_type": "code",
   "execution_count": 87,
   "metadata": {},
   "outputs": [
    {
     "name": "stdout",
     "output_type": "stream",
     "text": [
      "['tempat', 'yang', 'nyaman', 'untuk', 'dengan', 'kalau', 'malam', 'cukup', 'enak', 'jalan', 'harga', 'banyak', 'rasanya', 'seperti', 'buat', 'bandung', 'tidak', 'makan', 'restoran', 'menu', 'sangat', 'makanan', 'rasa', 'saya', 'tapi', 'banget', 'juga', 'adalah', 'bisa', 'pelayanan', 'saja', 'dari', 'suasana', 'lebih', 'sini', 'sudah', 'kami', 'karena', 'kita', 'orang', 'sekali', 'jadi', 'sama', 'lagi']\n"
     ]
    }
   ],
   "source": [
    "# get the frequency distribution of words\n",
    "freq_kata = nltk.FreqDist(nltk.word_tokenize(text))\n",
    "\n",
    "# calculate the interquartile range (IQR) of word frequency\n",
    "q1, q3 = np.percentile(list(freq_kata.values()), [1, 99])\n",
    "iqr = q3 - q1\n",
    "\n",
    "# calculate the upper and lower bounds for outliers\n",
    "upper_bound = q3 + 1.5 * iqr\n",
    "lower_bound = q1 - 1.5 * iqr\n",
    "\n",
    "# get the words that are outliers\n",
    "outliers = [word for word, freq in freq_kata.items() if freq > upper_bound or freq < lower_bound]\n",
    "print(outliers)"
   ]
  },
  {
   "cell_type": "code",
   "execution_count": 88,
   "metadata": {},
   "outputs": [],
   "source": [
    "# define a function to remove words from DataFrame\n",
    "def remove_outliers(row):\n",
    "    words = row['string_tokens'].split()\n",
    "    words = [word for word in words if word not in outliers]\n",
    "    return ' '.join(words)\n",
    "\n",
    "# apply the function to the DataFrame\n",
    "df_train['clean_string'] = df_train.apply(remove_outliers, axis=1)"
   ]
  },
  {
   "cell_type": "code",
   "execution_count": 89,
   "metadata": {},
   "outputs": [
    {
     "data": {
      "text/html": [
       "<div>\n",
       "<style scoped>\n",
       "    .dataframe tbody tr th:only-of-type {\n",
       "        vertical-align: middle;\n",
       "    }\n",
       "\n",
       "    .dataframe tbody tr th {\n",
       "        vertical-align: top;\n",
       "    }\n",
       "\n",
       "    .dataframe thead th {\n",
       "        text-align: right;\n",
       "    }\n",
       "</style>\n",
       "<table border=\"1\" class=\"dataframe\">\n",
       "  <thead>\n",
       "    <tr style=\"text-align: right;\">\n",
       "      <th></th>\n",
       "      <th>tweets</th>\n",
       "      <th>labels</th>\n",
       "      <th>clean_tweets</th>\n",
       "      <th>word_tokens</th>\n",
       "      <th>label_encode</th>\n",
       "      <th>string_tokens</th>\n",
       "      <th>clean_string</th>\n",
       "    </tr>\n",
       "  </thead>\n",
       "  <tbody>\n",
       "    <tr>\n",
       "      <th>0</th>\n",
       "      <td>tempat yang nyaman untuk berkumpul dengan tema...</td>\n",
       "      <td>positive</td>\n",
       "      <td>tempat yang nyaman untuk berkumpul dengan tema...</td>\n",
       "      <td>[tempat, yang, nyaman, untuk, berkumpul, denga...</td>\n",
       "      <td>2</td>\n",
       "      <td>tempat yang nyaman untuk berkumpul dengan tema...</td>\n",
       "      <td>berkumpul teman teman lagu lumayan kadang proy...</td>\n",
       "    </tr>\n",
       "    <tr>\n",
       "      <th>1</th>\n",
       "      <td>memang banyak bacot sih , omongan doang gede b...</td>\n",
       "      <td>negative</td>\n",
       "      <td>memang banyak bacot omongan doang gede bocah k...</td>\n",
       "      <td>[memang, banyak, bacot, omongan, doang, gede, ...</td>\n",
       "      <td>0</td>\n",
       "      <td>memang banyak bacot omongan doang gede bocah k...</td>\n",
       "      <td>memang bacot omongan doang gede bocah memang s...</td>\n",
       "    </tr>\n",
       "    <tr>\n",
       "      <th>2</th>\n",
       "      <td>buat yang berkunjung ke bandung , yang ingin m...</td>\n",
       "      <td>positive</td>\n",
       "      <td>buat yang berkunjung bandung yang ingin mencob...</td>\n",
       "      <td>[buat, yang, berkunjung, bandung, yang, ingin,...</td>\n",
       "      <td>2</td>\n",
       "      <td>buat yang berkunjung bandung yang ingin mencob...</td>\n",
       "      <td>berkunjung ingin mencoba masakan padang salah ...</td>\n",
       "    </tr>\n",
       "    <tr>\n",
       "      <th>3</th>\n",
       "      <td>restoran menyajikan makanan khas sunda yang en...</td>\n",
       "      <td>positive</td>\n",
       "      <td>restoran menyajikan makanan khas sunda yang en...</td>\n",
       "      <td>[restoran, menyajikan, makanan, khas, sunda, y...</td>\n",
       "      <td>2</td>\n",
       "      <td>restoran menyajikan makanan khas sunda yang en...</td>\n",
       "      <td>menyajikan khas sunda terutama gurami terbang ...</td>\n",
       "    </tr>\n",
       "    <tr>\n",
       "      <th>4</th>\n",
       "      <td>kalau travelling ke bandung , wajib makan bata...</td>\n",
       "      <td>positive</td>\n",
       "      <td>kalau travelling bandung wajib makan batagor r...</td>\n",
       "      <td>[kalau, travelling, bandung, wajib, makan, bat...</td>\n",
       "      <td>2</td>\n",
       "      <td>kalau travelling bandung wajib makan batagor r...</td>\n",
       "      <td>travelling wajib batagor riri waktu cabang pas...</td>\n",
       "    </tr>\n",
       "    <tr>\n",
       "      <th>...</th>\n",
       "      <td>...</td>\n",
       "      <td>...</td>\n",
       "      <td>...</td>\n",
       "      <td>...</td>\n",
       "      <td>...</td>\n",
       "      <td>...</td>\n",
       "      <td>...</td>\n",
       "    </tr>\n",
       "    <tr>\n",
       "      <th>17365</th>\n",
       "      <td>wagub sandiuno : metro tv jangan fake news men...</td>\n",
       "      <td>neutral</td>\n",
       "      <td>wagub sandiuno metro jangan fake news mengikut...</td>\n",
       "      <td>[wagub, sandiuno, metro, jangan, fake, news, m...</td>\n",
       "      <td>1</td>\n",
       "      <td>wagub sandiuno metro jangan fake news mengikut...</td>\n",
       "      <td>wagub sandiuno metro jangan fake news mengikut...</td>\n",
       "    </tr>\n",
       "    <tr>\n",
       "      <th>17366</th>\n",
       "      <td>saya ingat banyak sekali dulu yang bertubi-ber...</td>\n",
       "      <td>neutral</td>\n",
       "      <td>saya ingat banyak sekali dulu yang bertubi ber...</td>\n",
       "      <td>[saya, ingat, banyak, sekali, dulu, yang, bert...</td>\n",
       "      <td>1</td>\n",
       "      <td>saya ingat banyak sekali dulu yang bertubi ber...</td>\n",
       "      <td>ingat dulu bertubi bertubi serang demokrat med...</td>\n",
       "    </tr>\n",
       "    <tr>\n",
       "      <th>17367</th>\n",
       "      <td>rumah itu memiliki pagar besar berwarna hitam .</td>\n",
       "      <td>neutral</td>\n",
       "      <td>rumah memiliki pagar besar berwarna hitam</td>\n",
       "      <td>[rumah, memiliki, pagar, besar, berwarna, hitam]</td>\n",
       "      <td>1</td>\n",
       "      <td>rumah memiliki pagar besar berwarna hitam</td>\n",
       "      <td>rumah memiliki pagar besar berwarna hitam</td>\n",
       "    </tr>\n",
       "    <tr>\n",
       "      <th>17368</th>\n",
       "      <td>usung khofifah - emil , demokrat jalin komunik...</td>\n",
       "      <td>neutral</td>\n",
       "      <td>usung khofifah emil demokrat jalin komunikasi ...</td>\n",
       "      <td>[usung, khofifah, emil, demokrat, jalin, komun...</td>\n",
       "      <td>1</td>\n",
       "      <td>usung khofifah emil demokrat jalin komunikasi ...</td>\n",
       "      <td>usung khofifah emil demokrat jalin komunikasi ...</td>\n",
       "    </tr>\n",
       "    <tr>\n",
       "      <th>17369</th>\n",
       "      <td>ganjar tak ingin ambil pusing walaupun banyak ...</td>\n",
       "      <td>neutral</td>\n",
       "      <td>ganjar ingin ambil pusing walaupun banyak jago...</td>\n",
       "      <td>[ganjar, ingin, ambil, pusing, walaupun, banya...</td>\n",
       "      <td>1</td>\n",
       "      <td>ganjar ingin ambil pusing walaupun banyak jago...</td>\n",
       "      <td>ganjar ingin ambil pusing walaupun jagoan pdip...</td>\n",
       "    </tr>\n",
       "  </tbody>\n",
       "</table>\n",
       "<p>17370 rows × 7 columns</p>\n",
       "</div>"
      ],
      "text/plain": [
       "                                                  tweets    labels  \\\n",
       "0      tempat yang nyaman untuk berkumpul dengan tema...  positive   \n",
       "1      memang banyak bacot sih , omongan doang gede b...  negative   \n",
       "2      buat yang berkunjung ke bandung , yang ingin m...  positive   \n",
       "3      restoran menyajikan makanan khas sunda yang en...  positive   \n",
       "4      kalau travelling ke bandung , wajib makan bata...  positive   \n",
       "...                                                  ...       ...   \n",
       "17365  wagub sandiuno : metro tv jangan fake news men...   neutral   \n",
       "17366  saya ingat banyak sekali dulu yang bertubi-ber...   neutral   \n",
       "17367    rumah itu memiliki pagar besar berwarna hitam .   neutral   \n",
       "17368  usung khofifah - emil , demokrat jalin komunik...   neutral   \n",
       "17369  ganjar tak ingin ambil pusing walaupun banyak ...   neutral   \n",
       "\n",
       "                                            clean_tweets  \\\n",
       "0      tempat yang nyaman untuk berkumpul dengan tema...   \n",
       "1      memang banyak bacot omongan doang gede bocah k...   \n",
       "2      buat yang berkunjung bandung yang ingin mencob...   \n",
       "3      restoran menyajikan makanan khas sunda yang en...   \n",
       "4      kalau travelling bandung wajib makan batagor r...   \n",
       "...                                                  ...   \n",
       "17365  wagub sandiuno metro jangan fake news mengikut...   \n",
       "17366  saya ingat banyak sekali dulu yang bertubi ber...   \n",
       "17367          rumah memiliki pagar besar berwarna hitam   \n",
       "17368  usung khofifah emil demokrat jalin komunikasi ...   \n",
       "17369  ganjar ingin ambil pusing walaupun banyak jago...   \n",
       "\n",
       "                                             word_tokens  label_encode  \\\n",
       "0      [tempat, yang, nyaman, untuk, berkumpul, denga...             2   \n",
       "1      [memang, banyak, bacot, omongan, doang, gede, ...             0   \n",
       "2      [buat, yang, berkunjung, bandung, yang, ingin,...             2   \n",
       "3      [restoran, menyajikan, makanan, khas, sunda, y...             2   \n",
       "4      [kalau, travelling, bandung, wajib, makan, bat...             2   \n",
       "...                                                  ...           ...   \n",
       "17365  [wagub, sandiuno, metro, jangan, fake, news, m...             1   \n",
       "17366  [saya, ingat, banyak, sekali, dulu, yang, bert...             1   \n",
       "17367   [rumah, memiliki, pagar, besar, berwarna, hitam]             1   \n",
       "17368  [usung, khofifah, emil, demokrat, jalin, komun...             1   \n",
       "17369  [ganjar, ingin, ambil, pusing, walaupun, banya...             1   \n",
       "\n",
       "                                           string_tokens  \\\n",
       "0      tempat yang nyaman untuk berkumpul dengan tema...   \n",
       "1      memang banyak bacot omongan doang gede bocah k...   \n",
       "2      buat yang berkunjung bandung yang ingin mencob...   \n",
       "3      restoran menyajikan makanan khas sunda yang en...   \n",
       "4      kalau travelling bandung wajib makan batagor r...   \n",
       "...                                                  ...   \n",
       "17365  wagub sandiuno metro jangan fake news mengikut...   \n",
       "17366  saya ingat banyak sekali dulu yang bertubi ber...   \n",
       "17367          rumah memiliki pagar besar berwarna hitam   \n",
       "17368  usung khofifah emil demokrat jalin komunikasi ...   \n",
       "17369  ganjar ingin ambil pusing walaupun banyak jago...   \n",
       "\n",
       "                                            clean_string  \n",
       "0      berkumpul teman teman lagu lumayan kadang proy...  \n",
       "1      memang bacot omongan doang gede bocah memang s...  \n",
       "2      berkunjung ingin mencoba masakan padang salah ...  \n",
       "3      menyajikan khas sunda terutama gurami terbang ...  \n",
       "4      travelling wajib batagor riri waktu cabang pas...  \n",
       "...                                                  ...  \n",
       "17365  wagub sandiuno metro jangan fake news mengikut...  \n",
       "17366  ingat dulu bertubi bertubi serang demokrat med...  \n",
       "17367          rumah memiliki pagar besar berwarna hitam  \n",
       "17368  usung khofifah emil demokrat jalin komunikasi ...  \n",
       "17369  ganjar ingin ambil pusing walaupun jagoan pdip...  \n",
       "\n",
       "[17370 rows x 7 columns]"
      ]
     },
     "execution_count": 89,
     "metadata": {},
     "output_type": "execute_result"
    }
   ],
   "source": [
    "df_train"
   ]
  },
  {
   "cell_type": "code",
   "execution_count": 90,
   "metadata": {},
   "outputs": [],
   "source": [
    "df_train['clean_string_tokens'] = df_train['clean_string'].apply(tokenisasi)"
   ]
  },
  {
   "cell_type": "code",
   "execution_count": 91,
   "metadata": {},
   "outputs": [
    {
     "name": "stdout",
     "output_type": "stream",
     "text": [
      "Average number of words per row:  13.7657455382844\n"
     ]
    }
   ],
   "source": [
    "# define a function to count the number of words in a string\n",
    "def count_words(text):\n",
    "    words = text.split()\n",
    "    return len(words)\n",
    "\n",
    "# apply the function to the DataFrame\n",
    "df_train['num_words'] = df_train['clean_string'].apply(count_words)\n",
    "\n",
    "# calculate the average number of words per row\n",
    "avg_words = df_train['num_words'].mean()\n",
    "\n",
    "print(\"Average number of words per row: \", avg_words)"
   ]
  },
  {
   "cell_type": "code",
   "execution_count": 92,
   "metadata": {},
   "outputs": [],
   "source": [
    "df_train_copy = df_train.copy()\n",
    "df_train_copy.drop(columns=[\"tweets\", \"labels\"], inplace=True)"
   ]
  },
  {
   "attachments": {},
   "cell_type": "markdown",
   "metadata": {},
   "source": [
    "## LSTM"
   ]
  },
  {
   "cell_type": "code",
   "execution_count": 93,
   "metadata": {},
   "outputs": [],
   "source": [
    "MAX_NB_WORDS = 15000\n",
    "MAX_SEQUENCE_LENGTH = 64\n",
    "EMBEDDING_DIM = 100"
   ]
  },
  {
   "cell_type": "code",
   "execution_count": 94,
   "metadata": {},
   "outputs": [],
   "source": [
    "tokenizer = Tokenizer(num_words=MAX_NB_WORDS)"
   ]
  },
  {
   "cell_type": "code",
   "execution_count": 95,
   "metadata": {},
   "outputs": [],
   "source": [
    "tokenizer.fit_on_texts(df_train_copy['word_tokens'])\n",
    "\n",
    "# Tokenisasi data train\n",
    "X_train = tokenizer.texts_to_sequences(df_train_copy['word_tokens'])\n",
    "X_train = pad_sequences(X_train, maxlen=MAX_SEQUENCE_LENGTH)\n",
    "Y_train = pd.get_dummies(df_train_copy['label_encode']).values\n",
    "\n",
    "# Tokenisasi data test\n",
    "X_test = tokenizer.texts_to_sequences(df_test['word_tokens'])\n",
    "X_test = pad_sequences(X_test, maxlen=MAX_SEQUENCE_LENGTH)\n",
    "Y_test = pd.get_dummies(df_test['label_encode']).values"
   ]
  },
  {
   "cell_type": "code",
   "execution_count": 96,
   "metadata": {},
   "outputs": [],
   "source": [
    "with open('tokenizer.pickle', 'wb') as handle:\n",
    "    pickle.dump(tokenizer, handle, protocol=pickle.HIGHEST_PROTOCOL)"
   ]
  },
  {
   "cell_type": "code",
   "execution_count": 27,
   "metadata": {},
   "outputs": [
    {
     "name": "stdout",
     "output_type": "stream",
     "text": [
      "(15633, 64) (15633, 3)\n",
      "(1737, 64) (1737, 3)\n"
     ]
    }
   ],
   "source": [
    "# Split data train\n",
    "X_train, X_val, Y_train, Y_val = train_test_split(X_train,Y_train, test_size=0.10, random_state=42)\n",
    "print(X_train.shape, Y_train.shape)\n",
    "print(X_val.shape, Y_val.shape)"
   ]
  },
  {
   "cell_type": "code",
   "execution_count": 29,
   "metadata": {},
   "outputs": [
    {
     "name": "stdout",
     "output_type": "stream",
     "text": [
      "Epoch 1/50\n",
      "220/220 [==============================] - 40s 161ms/step - loss: 0.5684 - accuracy: 0.7826 - val_loss: 0.2587 - val_accuracy: 0.9028\n",
      "Epoch 2/50\n",
      "220/220 [==============================] - 35s 161ms/step - loss: 0.1899 - accuracy: 0.9412 - val_loss: 0.1695 - val_accuracy: 0.9457\n",
      "Epoch 3/50\n",
      "220/220 [==============================] - 32s 147ms/step - loss: 0.1042 - accuracy: 0.9697 - val_loss: 0.1836 - val_accuracy: 0.9437\n",
      "Epoch 4/50\n",
      "220/220 [==============================] - 32s 147ms/step - loss: 0.0699 - accuracy: 0.9795 - val_loss: 0.1726 - val_accuracy: 0.9482\n",
      "Epoch 5/50\n",
      "220/220 [==============================] - 32s 145ms/step - loss: 0.0519 - accuracy: 0.9839 - val_loss: 0.1997 - val_accuracy: 0.9495\n",
      "Epoch 6/50\n",
      "220/220 [==============================] - 33s 148ms/step - loss: 0.0444 - accuracy: 0.9860 - val_loss: 0.2119 - val_accuracy: 0.9463\n",
      "Epoch 7/50\n",
      "220/220 [==============================] - 32s 147ms/step - loss: 0.0387 - accuracy: 0.9871 - val_loss: 0.2167 - val_accuracy: 0.9495\n",
      "Epoch 7: early stopping\n"
     ]
    }
   ],
   "source": [
    "# Membuat model LSTM\n",
    "from keras.models import Sequential\n",
    "from keras.layers import Embedding, SpatialDropout1D, LSTM, Dense, Dropout\n",
    "\n",
    "model = Sequential()\n",
    "model.add(Embedding(MAX_NB_WORDS, EMBEDDING_DIM, input_length=X_train.shape[1]))\n",
    "model.add(SpatialDropout1D(0.1))\n",
    "model.add(LSTM(32, dropout=0.1, recurrent_dropout=0.1))\n",
    "model.add(Dropout(0.5))\n",
    "model.add(Dense(3, activation='softmax'))\n",
    "model.compile(loss='categorical_crossentropy', optimizer='adam', metrics=['accuracy'])\n",
    "\n",
    "from keras.callbacks import EarlyStopping\n",
    "es = EarlyStopping(monitor='val_loss', mode='min', verbose=1, patience=5)\n",
    "\n",
    "epochs = 50\n",
    "batch_size = 64\n",
    "\n",
    "# Training model\n",
    "history = model.fit(X_train, Y_train, epochs=epochs, batch_size=batch_size, validation_split=0.1, callbacks=[es])"
   ]
  },
  {
   "attachments": {},
   "cell_type": "markdown",
   "metadata": {},
   "source": [
    "### Validation"
   ]
  },
  {
   "cell_type": "code",
   "execution_count": 30,
   "metadata": {},
   "outputs": [
    {
     "name": "stdout",
     "output_type": "stream",
     "text": [
      "55/55 [==============================] - 1s 16ms/step\n"
     ]
    },
    {
     "data": {
      "text/plain": [
       "(1737, 3)"
      ]
     },
     "execution_count": 30,
     "metadata": {},
     "output_type": "execute_result"
    }
   ],
   "source": [
    "y_pred = model.predict(X_val)\n",
    "y_pred.shape"
   ]
  },
  {
   "cell_type": "code",
   "execution_count": 31,
   "metadata": {},
   "outputs": [
    {
     "name": "stdout",
     "output_type": "stream",
     "text": [
      "Accuracy: 95.16%\n"
     ]
    }
   ],
   "source": [
    "y_pred_classes = np.argmax(y_pred, axis=1)\n",
    "Y_val_classes = np.argmax(Y_val, axis=1)\n",
    "accuracy = accuracy_score(Y_val_classes, y_pred_classes)\n",
    "print(\"Accuracy: %.2f%%\" % (accuracy * 100.0))"
   ]
  },
  {
   "cell_type": "code",
   "execution_count": 32,
   "metadata": {},
   "outputs": [
    {
     "name": "stdout",
     "output_type": "stream",
     "text": [
      "              precision    recall  f1-score   support\n",
      "\n",
      "           0       0.92      0.94      0.93       584\n",
      "           1       0.98      1.00      0.99       577\n",
      "           2       0.95      0.91      0.93       576\n",
      "\n",
      "    accuracy                           0.95      1737\n",
      "   macro avg       0.95      0.95      0.95      1737\n",
      "weighted avg       0.95      0.95      0.95      1737\n",
      "\n"
     ]
    }
   ],
   "source": [
    "y_pred_classes = np.argmax(y_pred, axis=1)\n",
    "Y_val_classes = np.argmax(Y_val, axis=1)\n",
    "print(classification_report(Y_val_classes, y_pred_classes))"
   ]
  },
  {
   "attachments": {},
   "cell_type": "markdown",
   "metadata": {},
   "source": [
    "### Predict data test"
   ]
  },
  {
   "cell_type": "code",
   "execution_count": 33,
   "metadata": {},
   "outputs": [
    {
     "name": "stdout",
     "output_type": "stream",
     "text": [
      "35/35 [==============================] - 1s 16ms/step\n"
     ]
    },
    {
     "data": {
      "text/plain": [
       "(1100, 3)"
      ]
     },
     "execution_count": 33,
     "metadata": {},
     "output_type": "execute_result"
    }
   ],
   "source": [
    "y_pred = model.predict(X_test)\n",
    "y_pred.shape"
   ]
  },
  {
   "cell_type": "code",
   "execution_count": 34,
   "metadata": {},
   "outputs": [
    {
     "name": "stdout",
     "output_type": "stream",
     "text": [
      "Accuracy: 83.91%\n"
     ]
    }
   ],
   "source": [
    "y_pred_classes = np.argmax(y_pred, axis=1)\n",
    "Y_test_classes = np.argmax(Y_test, axis=1)\n",
    "accuracy = accuracy_score(Y_test_classes, y_pred_classes)\n",
    "print(\"Accuracy: %.2f%%\" % (accuracy * 100.0))"
   ]
  },
  {
   "cell_type": "code",
   "execution_count": 35,
   "metadata": {},
   "outputs": [
    {
     "name": "stdout",
     "output_type": "stream",
     "text": [
      "              precision    recall  f1-score   support\n",
      "\n",
      "           0       0.79      0.79      0.79       353\n",
      "           1       0.71      0.64      0.67       121\n",
      "           2       0.89      0.90      0.90       626\n",
      "\n",
      "    accuracy                           0.84      1100\n",
      "   macro avg       0.79      0.78      0.79      1100\n",
      "weighted avg       0.84      0.84      0.84      1100\n",
      "\n"
     ]
    }
   ],
   "source": [
    "y_pred_classes = np.argmax(y_pred, axis=1)\n",
    "Y_test_classes = np.argmax(Y_test, axis=1)\n",
    "print(classification_report(Y_test_classes, y_pred_classes))"
   ]
  },
  {
   "cell_type": "code",
   "execution_count": 36,
   "metadata": {},
   "outputs": [
    {
     "name": "stdout",
     "output_type": "stream",
     "text": [
      "[0 1 2]\n",
      "[356 109 635]\n"
     ]
    }
   ],
   "source": [
    "unique_values, value_counts = np.unique(y_pred_classes, return_counts=True)\n",
    "\n",
    "print(unique_values)  # [0 1 2 3]\n",
    "print(value_counts)   # [1 2 3 1]"
   ]
  },
  {
   "cell_type": "code",
   "execution_count": 37,
   "metadata": {},
   "outputs": [],
   "source": [
    "y_pred_sentiment = y_pred.argmax(axis=-1)\n",
    "\n",
    "# konversi nilai prediksi menjadi label sentimen\n",
    "labels = {0: \"negative\", 1: \"neutral\", 2: \"positive\"}\n",
    "df_test[\"label_prediksi\"] = [labels[pred] for pred in y_pred_sentiment]"
   ]
  },
  {
   "cell_type": "code",
   "execution_count": 38,
   "metadata": {},
   "outputs": [
    {
     "data": {
      "text/html": [
       "<div>\n",
       "<style scoped>\n",
       "    .dataframe tbody tr th:only-of-type {\n",
       "        vertical-align: middle;\n",
       "    }\n",
       "\n",
       "    .dataframe tbody tr th {\n",
       "        vertical-align: top;\n",
       "    }\n",
       "\n",
       "    .dataframe thead th {\n",
       "        text-align: right;\n",
       "    }\n",
       "</style>\n",
       "<table border=\"1\" class=\"dataframe\">\n",
       "  <thead>\n",
       "    <tr style=\"text-align: right;\">\n",
       "      <th></th>\n",
       "      <th>tweets</th>\n",
       "      <th>labels</th>\n",
       "      <th>clean_tweets</th>\n",
       "      <th>word_tokens</th>\n",
       "      <th>label_encode</th>\n",
       "      <th>label_prediksi</th>\n",
       "    </tr>\n",
       "  </thead>\n",
       "  <tbody>\n",
       "    <tr>\n",
       "      <th>0</th>\n",
       "      <td>nasi liwet asep stroberi 1 yang terletak di ja...</td>\n",
       "      <td>positive</td>\n",
       "      <td>nasi liwet asep stroberi yang terletak jalan n...</td>\n",
       "      <td>[nasi, liwet, asep, stroberi, yang, terletak, ...</td>\n",
       "      <td>2</td>\n",
       "      <td>positive</td>\n",
       "    </tr>\n",
       "    <tr>\n",
       "      <th>1</th>\n",
       "      <td>tolong dipercepat lagi pengiriman nya .</td>\n",
       "      <td>negative</td>\n",
       "      <td>tolong dipercepat lagi pengiriman</td>\n",
       "      <td>[tolong, dipercepat, lagi, pengiriman]</td>\n",
       "      <td>0</td>\n",
       "      <td>negative</td>\n",
       "    </tr>\n",
       "    <tr>\n",
       "      <th>2</th>\n",
       "      <td>handphone saya lenovo , kecemplung di comberan...</td>\n",
       "      <td>positive</td>\n",
       "      <td>handphone saya lenovo kecemplung comberan ming...</td>\n",
       "      <td>[handphone, saya, lenovo, kecemplung, comberan...</td>\n",
       "      <td>2</td>\n",
       "      <td>positive</td>\n",
       "    </tr>\n",
       "    <tr>\n",
       "      <th>3</th>\n",
       "      <td>ini suki and barbeque versi murah meriah . lum...</td>\n",
       "      <td>positive</td>\n",
       "      <td>suki barbeque versi murah meriah lumayan bange...</td>\n",
       "      <td>[suki, barbeque, versi, murah, meriah, lumayan...</td>\n",
       "      <td>2</td>\n",
       "      <td>positive</td>\n",
       "    </tr>\n",
       "    <tr>\n",
       "      <th>4</th>\n",
       "      <td>mau melihat bandung dari atas ? nah ini tempat...</td>\n",
       "      <td>positive</td>\n",
       "      <td>melihat bandung dari atas tempat walaupun harg...</td>\n",
       "      <td>[melihat, bandung, dari, atas, tempat, walaupu...</td>\n",
       "      <td>2</td>\n",
       "      <td>positive</td>\n",
       "    </tr>\n",
       "    <tr>\n",
       "      <th>...</th>\n",
       "      <td>...</td>\n",
       "      <td>...</td>\n",
       "      <td>...</td>\n",
       "      <td>...</td>\n",
       "      <td>...</td>\n",
       "      <td>...</td>\n",
       "    </tr>\n",
       "    <tr>\n",
       "      <th>1095</th>\n",
       "      <td>mau petik stroberi nya tetapi ternyata sedang ...</td>\n",
       "      <td>positive</td>\n",
       "      <td>petik stroberi tetapi ternyata sedang tidak mu...</td>\n",
       "      <td>[petik, stroberi, tetapi, ternyata, sedang, ti...</td>\n",
       "      <td>2</td>\n",
       "      <td>positive</td>\n",
       "    </tr>\n",
       "    <tr>\n",
       "      <th>1096</th>\n",
       "      <td>yang benar saja masa nomer whatsapp saya di bl...</td>\n",
       "      <td>negative</td>\n",
       "      <td>yang benar saja masa nomer whatsapp saya blok ...</td>\n",
       "      <td>[yang, benar, saja, masa, nomer, whatsapp, say...</td>\n",
       "      <td>0</td>\n",
       "      <td>negative</td>\n",
       "    </tr>\n",
       "    <tr>\n",
       "      <th>1097</th>\n",
       "      <td>food court yang memiliki berbagai macam piliha...</td>\n",
       "      <td>positive</td>\n",
       "      <td>food court yang memiliki berbagai macam piliha...</td>\n",
       "      <td>[food, court, yang, memiliki, berbagai, macam,...</td>\n",
       "      <td>2</td>\n",
       "      <td>positive</td>\n",
       "    </tr>\n",
       "    <tr>\n",
       "      <th>1098</th>\n",
       "      <td>gorengan basi dihidangkan , selera murahan</td>\n",
       "      <td>negative</td>\n",
       "      <td>gorengan basi dihidangkan selera murahan</td>\n",
       "      <td>[gorengan, basi, dihidangkan, selera, murahan]</td>\n",
       "      <td>0</td>\n",
       "      <td>positive</td>\n",
       "    </tr>\n",
       "    <tr>\n",
       "      <th>1099</th>\n",
       "      <td>negara indonesia terancam bangkrut .</td>\n",
       "      <td>negative</td>\n",
       "      <td>negara indonesia terancam bangkrut</td>\n",
       "      <td>[negara, indonesia, terancam, bangkrut]</td>\n",
       "      <td>0</td>\n",
       "      <td>negative</td>\n",
       "    </tr>\n",
       "  </tbody>\n",
       "</table>\n",
       "<p>1100 rows × 6 columns</p>\n",
       "</div>"
      ],
      "text/plain": [
       "                                                 tweets  ... label_prediksi\n",
       "0     nasi liwet asep stroberi 1 yang terletak di ja...  ...       positive\n",
       "1               tolong dipercepat lagi pengiriman nya .  ...       negative\n",
       "2     handphone saya lenovo , kecemplung di comberan...  ...       positive\n",
       "3     ini suki and barbeque versi murah meriah . lum...  ...       positive\n",
       "4     mau melihat bandung dari atas ? nah ini tempat...  ...       positive\n",
       "...                                                 ...  ...            ...\n",
       "1095  mau petik stroberi nya tetapi ternyata sedang ...  ...       positive\n",
       "1096  yang benar saja masa nomer whatsapp saya di bl...  ...       negative\n",
       "1097  food court yang memiliki berbagai macam piliha...  ...       positive\n",
       "1098         gorengan basi dihidangkan , selera murahan  ...       positive\n",
       "1099               negara indonesia terancam bangkrut .  ...       negative\n",
       "\n",
       "[1100 rows x 6 columns]"
      ]
     },
     "execution_count": 38,
     "metadata": {},
     "output_type": "execute_result"
    }
   ],
   "source": [
    "df_test"
   ]
  },
  {
   "attachments": {},
   "cell_type": "markdown",
   "metadata": {},
   "source": [
    "## Save Model"
   ]
  },
  {
   "cell_type": "code",
   "execution_count": 39,
   "metadata": {},
   "outputs": [],
   "source": [
    "model.save(\"sentiment_analysis_model_challenge.h5\")"
   ]
  },
  {
   "attachments": {},
   "cell_type": "markdown",
   "metadata": {},
   "source": [
    "## Cara menggunakan model kembali dengan load model"
   ]
  },
  {
   "cell_type": "code",
   "execution_count": 40,
   "metadata": {},
   "outputs": [
    {
     "name": "stdout",
     "output_type": "stream",
     "text": [
      "35/35 [==============================] - 2s 38ms/step\n"
     ]
    }
   ],
   "source": [
    "# load data baru\n",
    "df_new = pd.read_csv(\"test_data.csv\")\n",
    "df_new = df_new.applymap(cleansing)\n",
    "# df_new = df_new.applymap(remove_stopwords)\n",
    "\n",
    "sentences = df_new['tweets']\n",
    "df_new['label_encoded'] = le.transform(df_new['labels'])\n",
    "df_new_labels = pd.get_dummies(df_new['label_encoded']).values\n",
    "\n",
    "# lakukan preprocessing pada data baru\n",
    "X_new = tokenizer.texts_to_sequences(sentences)\n",
    "X_new = pad_sequences(X_new, maxlen=MAX_SEQUENCE_LENGTH)\n",
    "\n",
    "loaded_model = load_model(\"sentiment_analysis_model_challenge.h5\")\n",
    "\n",
    "# lakukan prediksi pada data baru\n",
    "y_prob = loaded_model.predict(X_new)\n",
    "y_pred = y_prob.argmax(axis=-1)\n",
    "\n",
    "# konversi nilai prediksi menjadi label sentimen\n",
    "labels = {0: \"negative\", 1: \"neutral\", 2: \"positive\"}\n",
    "df_new[\"label_sentimen\"] = [labels[pred] for pred in y_pred]"
   ]
  },
  {
   "attachments": {},
   "cell_type": "markdown",
   "metadata": {},
   "source": [
    "### Cek akurasi prediksi label terhadap label original"
   ]
  },
  {
   "cell_type": "code",
   "execution_count": 41,
   "metadata": {},
   "outputs": [
    {
     "name": "stdout",
     "output_type": "stream",
     "text": [
      "Accuracy: 83.91%\n"
     ]
    }
   ],
   "source": [
    "y_pred_classes = np.argmax(y_prob, axis=1)\n",
    "Y_val_classes = np.argmax(df_new_labels, axis=1)\n",
    "accuracy = accuracy_score(Y_val_classes, y_pred_classes)\n",
    "print(\"Accuracy: %.2f%%\" % (accuracy * 100.0))"
   ]
  },
  {
   "cell_type": "code",
   "execution_count": 42,
   "metadata": {},
   "outputs": [
    {
     "name": "stdout",
     "output_type": "stream",
     "text": [
      "              precision    recall  f1-score   support\n",
      "\n",
      "           0       0.79      0.79      0.79       353\n",
      "           1       0.71      0.64      0.67       121\n",
      "           2       0.89      0.90      0.90       626\n",
      "\n",
      "    accuracy                           0.84      1100\n",
      "   macro avg       0.79      0.78      0.79      1100\n",
      "weighted avg       0.84      0.84      0.84      1100\n",
      "\n"
     ]
    }
   ],
   "source": [
    "y_pred_classes = np.argmax(y_prob, axis=1)\n",
    "Y_test_classes = np.argmax(df_new_labels, axis=1)\n",
    "print(classification_report(Y_test_classes, y_pred_classes))"
   ]
  },
  {
   "cell_type": "code",
   "execution_count": 43,
   "metadata": {},
   "outputs": [
    {
     "data": {
      "text/plain": [
       "positive    635\n",
       "negative    356\n",
       "neutral     109\n",
       "Name: label_sentimen, dtype: int64"
      ]
     },
     "execution_count": 43,
     "metadata": {},
     "output_type": "execute_result"
    }
   ],
   "source": [
    "df_new.label_sentimen.value_counts()"
   ]
  },
  {
   "cell_type": "code",
   "execution_count": 44,
   "metadata": {},
   "outputs": [
    {
     "data": {
      "text/html": [
       "<div>\n",
       "<style scoped>\n",
       "    .dataframe tbody tr th:only-of-type {\n",
       "        vertical-align: middle;\n",
       "    }\n",
       "\n",
       "    .dataframe tbody tr th {\n",
       "        vertical-align: top;\n",
       "    }\n",
       "\n",
       "    .dataframe thead th {\n",
       "        text-align: right;\n",
       "    }\n",
       "</style>\n",
       "<table border=\"1\" class=\"dataframe\">\n",
       "  <thead>\n",
       "    <tr style=\"text-align: right;\">\n",
       "      <th></th>\n",
       "      <th>tweets</th>\n",
       "      <th>labels</th>\n",
       "      <th>label_encoded</th>\n",
       "      <th>label_sentimen</th>\n",
       "    </tr>\n",
       "  </thead>\n",
       "  <tbody>\n",
       "    <tr>\n",
       "      <th>0</th>\n",
       "      <td>nasi liwet asep stroberi yang terletak jalan n...</td>\n",
       "      <td>positive</td>\n",
       "      <td>2</td>\n",
       "      <td>positive</td>\n",
       "    </tr>\n",
       "    <tr>\n",
       "      <th>1</th>\n",
       "      <td>tolong dipercepat lagi pengiriman</td>\n",
       "      <td>negative</td>\n",
       "      <td>0</td>\n",
       "      <td>negative</td>\n",
       "    </tr>\n",
       "    <tr>\n",
       "      <th>2</th>\n",
       "      <td>handphone saya lenovo kecemplung comberan ming...</td>\n",
       "      <td>positive</td>\n",
       "      <td>2</td>\n",
       "      <td>positive</td>\n",
       "    </tr>\n",
       "    <tr>\n",
       "      <th>3</th>\n",
       "      <td>suki barbeque versi murah meriah lumayan bange...</td>\n",
       "      <td>positive</td>\n",
       "      <td>2</td>\n",
       "      <td>positive</td>\n",
       "    </tr>\n",
       "    <tr>\n",
       "      <th>4</th>\n",
       "      <td>melihat bandung dari atas tempat walaupun harg...</td>\n",
       "      <td>positive</td>\n",
       "      <td>2</td>\n",
       "      <td>positive</td>\n",
       "    </tr>\n",
       "    <tr>\n",
       "      <th>...</th>\n",
       "      <td>...</td>\n",
       "      <td>...</td>\n",
       "      <td>...</td>\n",
       "      <td>...</td>\n",
       "    </tr>\n",
       "    <tr>\n",
       "      <th>1095</th>\n",
       "      <td>petik stroberi tetapi ternyata sedang tidak mu...</td>\n",
       "      <td>positive</td>\n",
       "      <td>2</td>\n",
       "      <td>positive</td>\n",
       "    </tr>\n",
       "    <tr>\n",
       "      <th>1096</th>\n",
       "      <td>yang benar saja masa nomer whatsapp saya blok ...</td>\n",
       "      <td>negative</td>\n",
       "      <td>0</td>\n",
       "      <td>negative</td>\n",
       "    </tr>\n",
       "    <tr>\n",
       "      <th>1097</th>\n",
       "      <td>food court yang memiliki berbagai macam piliha...</td>\n",
       "      <td>positive</td>\n",
       "      <td>2</td>\n",
       "      <td>positive</td>\n",
       "    </tr>\n",
       "    <tr>\n",
       "      <th>1098</th>\n",
       "      <td>gorengan basi dihidangkan selera murahan</td>\n",
       "      <td>negative</td>\n",
       "      <td>0</td>\n",
       "      <td>positive</td>\n",
       "    </tr>\n",
       "    <tr>\n",
       "      <th>1099</th>\n",
       "      <td>negara indonesia terancam bangkrut</td>\n",
       "      <td>negative</td>\n",
       "      <td>0</td>\n",
       "      <td>negative</td>\n",
       "    </tr>\n",
       "  </tbody>\n",
       "</table>\n",
       "<p>1100 rows × 4 columns</p>\n",
       "</div>"
      ],
      "text/plain": [
       "                                                 tweets  ... label_sentimen\n",
       "0     nasi liwet asep stroberi yang terletak jalan n...  ...       positive\n",
       "1                     tolong dipercepat lagi pengiriman  ...       negative\n",
       "2     handphone saya lenovo kecemplung comberan ming...  ...       positive\n",
       "3     suki barbeque versi murah meriah lumayan bange...  ...       positive\n",
       "4     melihat bandung dari atas tempat walaupun harg...  ...       positive\n",
       "...                                                 ...  ...            ...\n",
       "1095  petik stroberi tetapi ternyata sedang tidak mu...  ...       positive\n",
       "1096  yang benar saja masa nomer whatsapp saya blok ...  ...       negative\n",
       "1097  food court yang memiliki berbagai macam piliha...  ...       positive\n",
       "1098           gorengan basi dihidangkan selera murahan  ...       positive\n",
       "1099                 negara indonesia terancam bangkrut  ...       negative\n",
       "\n",
       "[1100 rows x 4 columns]"
      ]
     },
     "execution_count": 44,
     "metadata": {},
     "output_type": "execute_result"
    }
   ],
   "source": [
    "df_new"
   ]
  },
  {
   "attachments": {},
   "cell_type": "markdown",
   "metadata": {},
   "source": [
    "# CNN"
   ]
  },
  {
   "cell_type": "code",
   "execution_count": 661,
   "metadata": {},
   "outputs": [
    {
     "name": "stdout",
     "output_type": "stream",
     "text": [
      "Epoch 1/2\n",
      "435/435 [==============================] - 20s 43ms/step - loss: 0.4137 - accuracy: 0.8308 - val_loss: 0.1811 - val_accuracy: 0.9396\n",
      "Epoch 2/2\n",
      "435/435 [==============================] - 17s 40ms/step - loss: 0.0821 - accuracy: 0.9728 - val_loss: 0.1291 - val_accuracy: 0.9516\n",
      "109/109 - 1s - loss: 0.1291 - accuracy: 0.9516 - 503ms/epoch - 5ms/step\n",
      "Test accuracy: 0.951640784740448\n"
     ]
    }
   ],
   "source": [
    "# Load data\n",
    "#data = pd.read_csv(\"train_preprocess.tsv.txt\", sep=\"\\t\", engine=\"python\", names=[\"data\", \"label\"])\n",
    "sentences = df_train['word_tokens'].to_list()\n",
    "labels = df_train['label_encode']\n",
    "\n",
    "# Convert labels to numeric values\n",
    "#label_dict = {\"negative\": 0, \"neutral\": 1, \"positive\": 2}\n",
    "#labels = np.array([label_dict[label] for label in labels])\n",
    "#labels = np.array([labels])\n",
    "\n",
    "# Tokenize data\n",
    "tokenizer = tf.keras.preprocessing.text.Tokenizer()\n",
    "tokenizer.fit_on_texts(sentences)\n",
    "word_index = tokenizer.word_index\n",
    "vocab_size = len(word_index) + 1\n",
    "sequences = tokenizer.texts_to_sequences(sentences)\n",
    "padded_sequences = tf.keras.preprocessing.sequence.pad_sequences(sequences, maxlen=64)\n",
    "\n",
    "# Split data into training and testing sets\n",
    "X_train, X_test, Y_train, Y_test = train_test_split(padded_sequences, labels, test_size=0.2)\n",
    "\n",
    "# One-hot encode the labels\n",
    "Y_train = tf.keras.utils.to_categorical(Y_train, 3)\n",
    "Y_test = tf.keras.utils.to_categorical(Y_test, 3)\n",
    "\n",
    "# Define the model architecture\n",
    "model = tf.keras.Sequential([\n",
    "    tf.keras.layers.Embedding(input_dim=vocab_size, output_dim=128, input_length=64),\n",
    "    tf.keras.layers.Conv1D(64, 5, activation='relu'),\n",
    "    tf.keras.layers.MaxPooling1D(5),\n",
    "    tf.keras.layers.Flatten(),\n",
    "    tf.keras.layers.Dense(64, activation='relu'),\n",
    "    tf.keras.layers.Dense(3, activation='softmax')\n",
    "])\n",
    "\n",
    "# Compile the model\n",
    "model.compile(loss='categorical_crossentropy', optimizer='adam', metrics=['accuracy'])\n",
    "\n",
    "# Train the model\n",
    "batch_size = 32\n",
    "epochs = 2\n",
    "history = model.fit(X_train, Y_train, epochs=epochs, batch_size=batch_size, validation_data=(X_test, Y_test))\n",
    "\n",
    "# Evaluate the model on test set\n",
    "test_loss, test_acc = model.evaluate(X_test, Y_test, verbose=2)\n",
    "print(\"Test accuracy:\", test_acc)"
   ]
  },
  {
   "cell_type": "code",
   "execution_count": 24,
   "metadata": {},
   "outputs": [],
   "source": [
    "model.save(\"sentiment_analysis_model_CNN_challenge.h5\")"
   ]
  },
  {
   "attachments": {},
   "cell_type": "markdown",
   "metadata": {},
   "source": [
    "# Feed Forward Neural Network"
   ]
  },
  {
   "cell_type": "code",
   "execution_count": 21,
   "metadata": {},
   "outputs": [
    {
     "name": "stdout",
     "output_type": "stream",
     "text": [
      "Epoch 1/50\n",
      "435/435 [==============================] - 21s 47ms/step - loss: 0.6504 - accuracy: 0.7103 - val_loss: 0.2177 - val_accuracy: 0.9211\n",
      "Epoch 2/50\n",
      "435/435 [==============================] - 20s 46ms/step - loss: 0.1695 - accuracy: 0.9485 - val_loss: 0.1481 - val_accuracy: 0.9467\n",
      "Epoch 3/50\n",
      "435/435 [==============================] - 21s 49ms/step - loss: 0.0648 - accuracy: 0.9816 - val_loss: 0.1707 - val_accuracy: 0.9551\n",
      "Epoch 4/50\n",
      "435/435 [==============================] - 29s 66ms/step - loss: 0.0317 - accuracy: 0.9899 - val_loss: 0.2137 - val_accuracy: 0.9528\n",
      "Epoch 5/50\n",
      "435/435 [==============================] - 20s 46ms/step - loss: 0.0195 - accuracy: 0.9929 - val_loss: 0.2575 - val_accuracy: 0.9505\n",
      "Epoch 6/50\n",
      "435/435 [==============================] - 20s 47ms/step - loss: 0.0168 - accuracy: 0.9947 - val_loss: 0.3188 - val_accuracy: 0.9537\n",
      "Epoch 7/50\n",
      "435/435 [==============================] - 20s 47ms/step - loss: 0.0128 - accuracy: 0.9960 - val_loss: 0.3564 - val_accuracy: 0.9514\n",
      "Epoch 7: early stopping\n",
      "109/109 [==============================] - 0s 4ms/step - loss: 0.3564 - accuracy: 0.9514\n",
      "Test Loss: 0.356405109167099\n",
      "Test Accuracy: 0.9513528943061829\n"
     ]
    }
   ],
   "source": [
    "# load data\n",
    "df = pd.read_csv('train_data.csv')\n",
    "\n",
    "# preprocessing data\n",
    "encoder = LabelEncoder()\n",
    "df['labels'] = encoder.fit_transform(df['labels'])\n",
    "df['tweets'] = df['tweets'].apply(cleansing)\n",
    "\n",
    "from imblearn.over_sampling import RandomOverSampler\n",
    "\n",
    "# inisiasi RandomOverSampler\n",
    "ros = RandomOverSampler(random_state=42)\n",
    "\n",
    "# lakukan oversampling pada kolom \"tweets\" dan \"labels\" dengan memanggil fungsi fit_resample()\n",
    "X_resampled, y_resampled = ros.fit_resample(df[['tweets']], df['labels'])\n",
    "\n",
    "# gabungkan data yang sudah di-resample menjadi sebuah dataframe baru\n",
    "df = pd.concat([pd.DataFrame(X_resampled, columns=['tweets']), pd.DataFrame(y_resampled, columns=['labels'])], axis=1)\n",
    "\n",
    "# split data into train and test\n",
    "train_text, test_text, train_label, test_label = train_test_split(df['tweets'], df['labels'], test_size=0.2, random_state=42)\n",
    "\n",
    "# tokenizing data\n",
    "tokenizer = Tokenizer(num_words=15000)\n",
    "tokenizer.fit_on_texts(train_text)\n",
    "train_seq = tokenizer.texts_to_sequences(train_text)\n",
    "test_seq = tokenizer.texts_to_sequences(test_text)\n",
    "\n",
    "# padding data\n",
    "train_pad = pad_sequences(train_seq, maxlen=64)\n",
    "test_pad = pad_sequences(test_seq, maxlen=64)\n",
    "\n",
    "# convert label to categorical\n",
    "train_label = to_categorical(train_label)\n",
    "test_label = to_categorical(test_label)\n",
    "\n",
    "# define model\n",
    "model = Sequential([\n",
    "    Embedding(input_dim=15000, output_dim=128, input_length=64),\n",
    "    Flatten(),\n",
    "    Dense(64, activation='relu'),\n",
    "    Dropout(0.5),\n",
    "    Dense(32, activation='relu'),\n",
    "    Dropout(0.5),\n",
    "    Dense(3, activation='softmax')\n",
    "])\n",
    "\n",
    "# compile model\n",
    "model.compile(loss='categorical_crossentropy', optimizer='adam', metrics=['accuracy'])\n",
    "\n",
    "# Add early stopping callback\n",
    "from keras.callbacks import EarlyStopping\n",
    "es = EarlyStopping(monitor='val_loss', mode='min', verbose=1, patience=5)\n",
    "\n",
    "# train model\n",
    "model.fit(train_pad, train_label, epochs=50, batch_size=32, validation_data=(test_pad, test_label), callbacks=[es])\n",
    "\n",
    "# evaluate model\n",
    "test_loss, test_acc = model.evaluate(test_pad, test_label)\n",
    "print('Test Loss:', test_loss)\n",
    "print('Test Accuracy:', test_acc)"
   ]
  },
  {
   "cell_type": "code",
   "execution_count": 22,
   "metadata": {},
   "outputs": [],
   "source": [
    "model.save(\"sentiment_analysis_feedForward_neuralNetwork.h5\")"
   ]
  },
  {
   "attachments": {},
   "cell_type": "markdown",
   "metadata": {},
   "source": [
    "## Cek akurasi saat model digunakan pada data test_data.csv"
   ]
  },
  {
   "cell_type": "code",
   "execution_count": 38,
   "metadata": {},
   "outputs": [],
   "source": [
    "X_test_ffnn = pd.read_csv(\"test_data.csv\")\n",
    "\n",
    "# preprocessing data\n",
    "encoder = LabelEncoder()\n",
    "X_test_ffnn['labels'] = le.transform(X_test_ffnn['labels'])\n",
    "X_test_ffnn['tweets'] = X_test_ffnn['tweets'].apply(cleansing)\n",
    "\n",
    "# tokenizing data\n",
    "test_seq = tokenizer.texts_to_sequences(X_test_ffnn['tweets'])\n",
    "\n",
    "# padding data\n",
    "test_pad = pad_sequences(test_seq, maxlen=64)\n",
    "\n",
    "# convert label to categorical\n",
    "test_label = to_categorical(X_test_ffnn['labels'])"
   ]
  },
  {
   "cell_type": "code",
   "execution_count": 39,
   "metadata": {},
   "outputs": [
    {
     "name": "stdout",
     "output_type": "stream",
     "text": [
      "35/35 [==============================] - 1s 19ms/step\n"
     ]
    },
    {
     "data": {
      "text/plain": [
       "(1100, 3)"
      ]
     },
     "execution_count": 39,
     "metadata": {},
     "output_type": "execute_result"
    }
   ],
   "source": [
    "y_pred = model.predict(test_pad)\n",
    "y_pred.shape"
   ]
  },
  {
   "cell_type": "code",
   "execution_count": 40,
   "metadata": {},
   "outputs": [
    {
     "name": "stdout",
     "output_type": "stream",
     "text": [
      "Accuracy: 84.82%\n"
     ]
    }
   ],
   "source": [
    "from sklearn.metrics import accuracy_score\n",
    "\n",
    "y_pred_classes = np.argmax(y_pred, axis=1)\n",
    "Y_test_classes = np.argmax(test_label, axis=1)\n",
    "accuracy = accuracy_score(Y_test_classes, y_pred_classes)\n",
    "print(\"Accuracy: %.2f%%\" % (accuracy * 100.0))"
   ]
  },
  {
   "cell_type": "code",
   "execution_count": 41,
   "metadata": {},
   "outputs": [
    {
     "name": "stdout",
     "output_type": "stream",
     "text": [
      "              precision    recall  f1-score   support\n",
      "\n",
      "           0       0.78      0.83      0.80       353\n",
      "           1       0.78      0.61      0.69       121\n",
      "           2       0.90      0.90      0.90       626\n",
      "\n",
      "    accuracy                           0.85      1100\n",
      "   macro avg       0.82      0.78      0.80      1100\n",
      "weighted avg       0.85      0.85      0.85      1100\n",
      "\n"
     ]
    }
   ],
   "source": [
    "from sklearn.metrics import classification_report\n",
    "\n",
    "y_pred_classes = np.argmax(y_pred, axis=1)\n",
    "Y_test_classes = np.argmax(test_label, axis=1)\n",
    "print(classification_report(Y_test_classes, y_pred_classes))"
   ]
  },
  {
   "cell_type": "code",
   "execution_count": 43,
   "metadata": {},
   "outputs": [
    {
     "name": "stdout",
     "output_type": "stream",
     "text": [
      "[0 1 2]\n",
      "[377  95 628]\n"
     ]
    }
   ],
   "source": [
    "unique_values, value_counts = np.unique(y_pred_classes, return_counts=True)\n",
    "\n",
    "print(unique_values)  # [0 1 2 3]\n",
    "print(value_counts)   # [1 2 3 1]"
   ]
  },
  {
   "cell_type": "code",
   "execution_count": 44,
   "metadata": {},
   "outputs": [
    {
     "data": {
      "text/plain": [
       "positive    626\n",
       "negative    353\n",
       "neutral     121\n",
       "Name: labels, dtype: int64"
      ]
     },
     "execution_count": 44,
     "metadata": {},
     "output_type": "execute_result"
    }
   ],
   "source": [
    "df_test.labels.value_counts()"
   ]
  },
  {
   "cell_type": "code",
   "execution_count": 47,
   "metadata": {},
   "outputs": [
    {
     "data": {
      "text/html": [
       "<div>\n",
       "<style scoped>\n",
       "    .dataframe tbody tr th:only-of-type {\n",
       "        vertical-align: middle;\n",
       "    }\n",
       "\n",
       "    .dataframe tbody tr th {\n",
       "        vertical-align: top;\n",
       "    }\n",
       "\n",
       "    .dataframe thead th {\n",
       "        text-align: right;\n",
       "    }\n",
       "</style>\n",
       "<table border=\"1\" class=\"dataframe\">\n",
       "  <thead>\n",
       "    <tr style=\"text-align: right;\">\n",
       "      <th></th>\n",
       "      <th>tweets</th>\n",
       "      <th>labels</th>\n",
       "      <th>clean_tweets</th>\n",
       "      <th>word_tokens</th>\n",
       "      <th>label_encode</th>\n",
       "    </tr>\n",
       "  </thead>\n",
       "  <tbody>\n",
       "    <tr>\n",
       "      <th>0</th>\n",
       "      <td>nasi liwet asep stroberi 1 yang terletak di ja...</td>\n",
       "      <td>positive</td>\n",
       "      <td>nasi liwet asep stroberi yang terletak jalan n...</td>\n",
       "      <td>[nasi, liwet, asep, stroberi, yang, terletak, ...</td>\n",
       "      <td>2</td>\n",
       "    </tr>\n",
       "    <tr>\n",
       "      <th>1</th>\n",
       "      <td>tolong dipercepat lagi pengiriman nya .</td>\n",
       "      <td>negative</td>\n",
       "      <td>tolong dipercepat lagi pengiriman</td>\n",
       "      <td>[tolong, dipercepat, lagi, pengiriman]</td>\n",
       "      <td>0</td>\n",
       "    </tr>\n",
       "    <tr>\n",
       "      <th>2</th>\n",
       "      <td>handphone saya lenovo , kecemplung di comberan...</td>\n",
       "      <td>positive</td>\n",
       "      <td>handphone saya lenovo kecemplung comberan ming...</td>\n",
       "      <td>[handphone, saya, lenovo, kecemplung, comberan...</td>\n",
       "      <td>2</td>\n",
       "    </tr>\n",
       "    <tr>\n",
       "      <th>3</th>\n",
       "      <td>ini suki and barbeque versi murah meriah . lum...</td>\n",
       "      <td>positive</td>\n",
       "      <td>suki barbeque versi murah meriah lumayan bange...</td>\n",
       "      <td>[suki, barbeque, versi, murah, meriah, lumayan...</td>\n",
       "      <td>2</td>\n",
       "    </tr>\n",
       "    <tr>\n",
       "      <th>4</th>\n",
       "      <td>mau melihat bandung dari atas ? nah ini tempat...</td>\n",
       "      <td>positive</td>\n",
       "      <td>melihat bandung dari atas tempat walaupun harg...</td>\n",
       "      <td>[melihat, bandung, dari, atas, tempat, walaupu...</td>\n",
       "      <td>2</td>\n",
       "    </tr>\n",
       "  </tbody>\n",
       "</table>\n",
       "</div>"
      ],
      "text/plain": [
       "                                              tweets    labels  \\\n",
       "0  nasi liwet asep stroberi 1 yang terletak di ja...  positive   \n",
       "1            tolong dipercepat lagi pengiriman nya .  negative   \n",
       "2  handphone saya lenovo , kecemplung di comberan...  positive   \n",
       "3  ini suki and barbeque versi murah meriah . lum...  positive   \n",
       "4  mau melihat bandung dari atas ? nah ini tempat...  positive   \n",
       "\n",
       "                                        clean_tweets  \\\n",
       "0  nasi liwet asep stroberi yang terletak jalan n...   \n",
       "1                  tolong dipercepat lagi pengiriman   \n",
       "2  handphone saya lenovo kecemplung comberan ming...   \n",
       "3  suki barbeque versi murah meriah lumayan bange...   \n",
       "4  melihat bandung dari atas tempat walaupun harg...   \n",
       "\n",
       "                                         word_tokens  label_encode  \n",
       "0  [nasi, liwet, asep, stroberi, yang, terletak, ...             2  \n",
       "1             [tolong, dipercepat, lagi, pengiriman]             0  \n",
       "2  [handphone, saya, lenovo, kecemplung, comberan...             2  \n",
       "3  [suki, barbeque, versi, murah, meriah, lumayan...             2  \n",
       "4  [melihat, bandung, dari, atas, tempat, walaupu...             2  "
      ]
     },
     "execution_count": 47,
     "metadata": {},
     "output_type": "execute_result"
    }
   ],
   "source": [
    "df_test.head()"
   ]
  },
  {
   "attachments": {},
   "cell_type": "markdown",
   "metadata": {},
   "source": [
    "## Menggunakan kembali model FFNN dengan load_model"
   ]
  },
  {
   "cell_type": "code",
   "execution_count": 58,
   "metadata": {},
   "outputs": [],
   "source": [
    "X_test_ffnn = pd.read_csv(\"test_data.csv\")\n",
    "\n",
    "# preprocessing data\n",
    "encoder = LabelEncoder()\n",
    "X_test_ffnn['labels'] = le.transform(X_test_ffnn['labels'])\n",
    "X_test_ffnn['tweets'] = X_test_ffnn['tweets'].apply(cleansing)\n",
    "\n",
    "# tokenizing data\n",
    "test_seq = tokenizer.texts_to_sequences(X_test_ffnn['tweets'])\n",
    "\n",
    "# padding data\n",
    "test_pad = pad_sequences(test_seq, maxlen=64)\n",
    "\n",
    "# convert label to categorical\n",
    "test_label = to_categorical(X_test_ffnn['labels'])"
   ]
  },
  {
   "cell_type": "code",
   "execution_count": 59,
   "metadata": {},
   "outputs": [],
   "source": [
    "loaded_model_ffnn = load_model(\"sentiment_analysis_feedForward_neuralNetwork.h5\")"
   ]
  },
  {
   "cell_type": "code",
   "execution_count": 60,
   "metadata": {},
   "outputs": [
    {
     "name": "stdout",
     "output_type": "stream",
     "text": [
      "35/35 [==============================] - 0s 5ms/step\n"
     ]
    },
    {
     "data": {
      "text/plain": [
       "(1100, 3)"
      ]
     },
     "execution_count": 60,
     "metadata": {},
     "output_type": "execute_result"
    }
   ],
   "source": [
    "y_pred = loaded_model_ffnn.predict(test_pad)\n",
    "y_pred.shape"
   ]
  },
  {
   "cell_type": "code",
   "execution_count": 61,
   "metadata": {},
   "outputs": [
    {
     "name": "stdout",
     "output_type": "stream",
     "text": [
      "Accuracy: 84.82%\n"
     ]
    }
   ],
   "source": [
    "from sklearn.metrics import accuracy_score\n",
    "\n",
    "y_pred_classes = np.argmax(y_pred, axis=1)\n",
    "Y_test_classes = np.argmax(test_label, axis=1)\n",
    "accuracy = accuracy_score(Y_test_classes, y_pred_classes)\n",
    "print(\"Accuracy: %.2f%%\" % (accuracy * 100.0))"
   ]
  },
  {
   "cell_type": "code",
   "execution_count": 62,
   "metadata": {},
   "outputs": [
    {
     "name": "stdout",
     "output_type": "stream",
     "text": [
      "              precision    recall  f1-score   support\n",
      "\n",
      "           0       0.78      0.83      0.80       353\n",
      "           1       0.78      0.61      0.69       121\n",
      "           2       0.90      0.90      0.90       626\n",
      "\n",
      "    accuracy                           0.85      1100\n",
      "   macro avg       0.82      0.78      0.80      1100\n",
      "weighted avg       0.85      0.85      0.85      1100\n",
      "\n"
     ]
    }
   ],
   "source": [
    "from sklearn.metrics import classification_report\n",
    "\n",
    "y_pred_classes = np.argmax(y_pred, axis=1)\n",
    "Y_test_classes = np.argmax(test_label, axis=1)\n",
    "print(classification_report(Y_test_classes, y_pred_classes))"
   ]
  },
  {
   "cell_type": "code",
   "execution_count": 63,
   "metadata": {},
   "outputs": [
    {
     "name": "stdout",
     "output_type": "stream",
     "text": [
      "[0 1 2]\n",
      "[377  95 628]\n"
     ]
    }
   ],
   "source": [
    "unique_values, value_counts = np.unique(y_pred_classes, return_counts=True)\n",
    "\n",
    "print(unique_values)  # [0 1 2 3]\n",
    "print(value_counts)   # [1 2 3 1]"
   ]
  },
  {
   "cell_type": "code",
   "execution_count": 64,
   "metadata": {},
   "outputs": [
    {
     "data": {
      "text/plain": [
       "positive    626\n",
       "negative    353\n",
       "neutral     121\n",
       "Name: labels, dtype: int64"
      ]
     },
     "execution_count": 64,
     "metadata": {},
     "output_type": "execute_result"
    }
   ],
   "source": [
    "df_test.labels.value_counts()"
   ]
  },
  {
   "cell_type": "code",
   "execution_count": 65,
   "metadata": {},
   "outputs": [
    {
     "data": {
      "text/html": [
       "<div>\n",
       "<style scoped>\n",
       "    .dataframe tbody tr th:only-of-type {\n",
       "        vertical-align: middle;\n",
       "    }\n",
       "\n",
       "    .dataframe tbody tr th {\n",
       "        vertical-align: top;\n",
       "    }\n",
       "\n",
       "    .dataframe thead th {\n",
       "        text-align: right;\n",
       "    }\n",
       "</style>\n",
       "<table border=\"1\" class=\"dataframe\">\n",
       "  <thead>\n",
       "    <tr style=\"text-align: right;\">\n",
       "      <th></th>\n",
       "      <th>tweets</th>\n",
       "      <th>labels</th>\n",
       "      <th>clean_tweets</th>\n",
       "      <th>word_tokens</th>\n",
       "      <th>label_encode</th>\n",
       "    </tr>\n",
       "  </thead>\n",
       "  <tbody>\n",
       "    <tr>\n",
       "      <th>0</th>\n",
       "      <td>nasi liwet asep stroberi 1 yang terletak di ja...</td>\n",
       "      <td>positive</td>\n",
       "      <td>nasi liwet asep stroberi yang terletak jalan n...</td>\n",
       "      <td>[nasi, liwet, asep, stroberi, yang, terletak, ...</td>\n",
       "      <td>2</td>\n",
       "    </tr>\n",
       "    <tr>\n",
       "      <th>1</th>\n",
       "      <td>tolong dipercepat lagi pengiriman nya .</td>\n",
       "      <td>negative</td>\n",
       "      <td>tolong dipercepat lagi pengiriman</td>\n",
       "      <td>[tolong, dipercepat, lagi, pengiriman]</td>\n",
       "      <td>0</td>\n",
       "    </tr>\n",
       "    <tr>\n",
       "      <th>2</th>\n",
       "      <td>handphone saya lenovo , kecemplung di comberan...</td>\n",
       "      <td>positive</td>\n",
       "      <td>handphone saya lenovo kecemplung comberan ming...</td>\n",
       "      <td>[handphone, saya, lenovo, kecemplung, comberan...</td>\n",
       "      <td>2</td>\n",
       "    </tr>\n",
       "    <tr>\n",
       "      <th>3</th>\n",
       "      <td>ini suki and barbeque versi murah meriah . lum...</td>\n",
       "      <td>positive</td>\n",
       "      <td>suki barbeque versi murah meriah lumayan bange...</td>\n",
       "      <td>[suki, barbeque, versi, murah, meriah, lumayan...</td>\n",
       "      <td>2</td>\n",
       "    </tr>\n",
       "    <tr>\n",
       "      <th>4</th>\n",
       "      <td>mau melihat bandung dari atas ? nah ini tempat...</td>\n",
       "      <td>positive</td>\n",
       "      <td>melihat bandung dari atas tempat walaupun harg...</td>\n",
       "      <td>[melihat, bandung, dari, atas, tempat, walaupu...</td>\n",
       "      <td>2</td>\n",
       "    </tr>\n",
       "  </tbody>\n",
       "</table>\n",
       "</div>"
      ],
      "text/plain": [
       "                                              tweets    labels  \\\n",
       "0  nasi liwet asep stroberi 1 yang terletak di ja...  positive   \n",
       "1            tolong dipercepat lagi pengiriman nya .  negative   \n",
       "2  handphone saya lenovo , kecemplung di comberan...  positive   \n",
       "3  ini suki and barbeque versi murah meriah . lum...  positive   \n",
       "4  mau melihat bandung dari atas ? nah ini tempat...  positive   \n",
       "\n",
       "                                        clean_tweets  \\\n",
       "0  nasi liwet asep stroberi yang terletak jalan n...   \n",
       "1                  tolong dipercepat lagi pengiriman   \n",
       "2  handphone saya lenovo kecemplung comberan ming...   \n",
       "3  suki barbeque versi murah meriah lumayan bange...   \n",
       "4  melihat bandung dari atas tempat walaupun harg...   \n",
       "\n",
       "                                         word_tokens  label_encode  \n",
       "0  [nasi, liwet, asep, stroberi, yang, terletak, ...             2  \n",
       "1             [tolong, dipercepat, lagi, pengiriman]             0  \n",
       "2  [handphone, saya, lenovo, kecemplung, comberan...             2  \n",
       "3  [suki, barbeque, versi, murah, meriah, lumayan...             2  \n",
       "4  [melihat, bandung, dari, atas, tempat, walaupu...             2  "
      ]
     },
     "execution_count": 65,
     "metadata": {},
     "output_type": "execute_result"
    }
   ],
   "source": [
    "df_test.head()"
   ]
  }
 ],
 "metadata": {
  "kernelspec": {
   "display_name": "Python 3 (ipykernel)",
   "language": "python",
   "name": "python3"
  },
  "language_info": {
   "codemirror_mode": {
    "name": "ipython",
    "version": 3
   },
   "file_extension": ".py",
   "mimetype": "text/x-python",
   "name": "python",
   "nbconvert_exporter": "python",
   "pygments_lexer": "ipython3",
   "version": "3.9.13"
  },
  "vscode": {
   "interpreter": {
    "hash": "c28da407b5413b3940d87ecdae5ea8ce0c2929d84f560e9f5daaaa2573d53e68"
   }
  }
 },
 "nbformat": 4,
 "nbformat_minor": 2
}
