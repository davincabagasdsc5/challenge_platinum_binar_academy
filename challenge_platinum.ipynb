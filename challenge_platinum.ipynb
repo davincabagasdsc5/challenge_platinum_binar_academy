{
 "cells": [
  {
   "cell_type": "code",
   "execution_count": 1,
   "metadata": {},
   "outputs": [],
   "source": [
    "import pandas as pd"
   ]
  },
  {
   "cell_type": "code",
   "execution_count": 2,
   "metadata": {},
   "outputs": [
    {
     "name": "stdout",
     "output_type": "stream",
     "text": [
      " Volume in drive D is Data\n",
      " Volume Serial Number is 86AA-243D\n",
      "\n",
      " Directory of d:\\Binar Academy - Data Science\\challenge_platinum\n",
      "\n",
      "16/02/2023  19:25    <DIR>          .\n",
      "16/02/2023  19:25    <DIR>          ..\n",
      "16/02/2023  19:18         2.186.718 train_preprocess.tsv.txt\n",
      "               1 File(s)      2.186.718 bytes\n",
      "               2 Dir(s)  169.941.155.840 bytes free\n"
     ]
    }
   ],
   "source": [
    "!dir"
   ]
  },
  {
   "cell_type": "code",
   "execution_count": 9,
   "metadata": {},
   "outputs": [],
   "source": [
    "df = pd.read_csv(\"train_preprocess.tsv.txt\", sep=\"\\t\", engine=\"python\", names=[\"data\", \"label\"])"
   ]
  },
  {
   "cell_type": "code",
   "execution_count": 10,
   "metadata": {},
   "outputs": [
    {
     "data": {
      "text/html": [
       "<div>\n",
       "<style scoped>\n",
       "    .dataframe tbody tr th:only-of-type {\n",
       "        vertical-align: middle;\n",
       "    }\n",
       "\n",
       "    .dataframe tbody tr th {\n",
       "        vertical-align: top;\n",
       "    }\n",
       "\n",
       "    .dataframe thead th {\n",
       "        text-align: right;\n",
       "    }\n",
       "</style>\n",
       "<table border=\"1\" class=\"dataframe\">\n",
       "  <thead>\n",
       "    <tr style=\"text-align: right;\">\n",
       "      <th></th>\n",
       "      <th>data</th>\n",
       "      <th>label</th>\n",
       "    </tr>\n",
       "  </thead>\n",
       "  <tbody>\n",
       "    <tr>\n",
       "      <th>0</th>\n",
       "      <td>warung ini dimiliki oleh pengusaha pabrik tahu...</td>\n",
       "      <td>positive</td>\n",
       "    </tr>\n",
       "    <tr>\n",
       "      <th>1</th>\n",
       "      <td>mohon ulama lurus dan k212 mmbri hujjah partai...</td>\n",
       "      <td>neutral</td>\n",
       "    </tr>\n",
       "    <tr>\n",
       "      <th>2</th>\n",
       "      <td>lokasi strategis di jalan sumatera bandung . t...</td>\n",
       "      <td>positive</td>\n",
       "    </tr>\n",
       "    <tr>\n",
       "      <th>3</th>\n",
       "      <td>betapa bahagia nya diri ini saat unboxing pake...</td>\n",
       "      <td>positive</td>\n",
       "    </tr>\n",
       "    <tr>\n",
       "      <th>4</th>\n",
       "      <td>duh . jadi mahasiswa jangan sombong dong . kas...</td>\n",
       "      <td>negative</td>\n",
       "    </tr>\n",
       "    <tr>\n",
       "      <th>...</th>\n",
       "      <td>...</td>\n",
       "      <td>...</td>\n",
       "    </tr>\n",
       "    <tr>\n",
       "      <th>10995</th>\n",
       "      <td>tidak kecewa</td>\n",
       "      <td>positive</td>\n",
       "    </tr>\n",
       "    <tr>\n",
       "      <th>10996</th>\n",
       "      <td>enak rasa masakan nya apalagi kepiting yang me...</td>\n",
       "      <td>positive</td>\n",
       "    </tr>\n",
       "    <tr>\n",
       "      <th>10997</th>\n",
       "      <td>hormati partai-partai yang telah berkoalisi</td>\n",
       "      <td>neutral</td>\n",
       "    </tr>\n",
       "    <tr>\n",
       "      <th>10998</th>\n",
       "      <td>pagi pagi di tol pasteur sudah macet parah , b...</td>\n",
       "      <td>negative</td>\n",
       "    </tr>\n",
       "    <tr>\n",
       "      <th>10999</th>\n",
       "      <td>meskipun sering belanja ke yogya di riau junct...</td>\n",
       "      <td>positive</td>\n",
       "    </tr>\n",
       "  </tbody>\n",
       "</table>\n",
       "<p>11000 rows × 2 columns</p>\n",
       "</div>"
      ],
      "text/plain": [
       "                                                    data     label\n",
       "0      warung ini dimiliki oleh pengusaha pabrik tahu...  positive\n",
       "1      mohon ulama lurus dan k212 mmbri hujjah partai...   neutral\n",
       "2      lokasi strategis di jalan sumatera bandung . t...  positive\n",
       "3      betapa bahagia nya diri ini saat unboxing pake...  positive\n",
       "4      duh . jadi mahasiswa jangan sombong dong . kas...  negative\n",
       "...                                                  ...       ...\n",
       "10995                                       tidak kecewa  positive\n",
       "10996  enak rasa masakan nya apalagi kepiting yang me...  positive\n",
       "10997        hormati partai-partai yang telah berkoalisi   neutral\n",
       "10998  pagi pagi di tol pasteur sudah macet parah , b...  negative\n",
       "10999  meskipun sering belanja ke yogya di riau junct...  positive\n",
       "\n",
       "[11000 rows x 2 columns]"
      ]
     },
     "execution_count": 10,
     "metadata": {},
     "output_type": "execute_result"
    }
   ],
   "source": [
    "df"
   ]
  },
  {
   "cell_type": "code",
   "execution_count": 11,
   "metadata": {},
   "outputs": [
    {
     "data": {
      "text/plain": [
       "(11000, 2)"
      ]
     },
     "execution_count": 11,
     "metadata": {},
     "output_type": "execute_result"
    }
   ],
   "source": [
    "df.shape"
   ]
  },
  {
   "cell_type": "code",
   "execution_count": 2,
   "metadata": {},
   "outputs": [],
   "source": [
    "# Fungsi Cleansing Davinca\n",
    "def cleanse_file(contents):\n",
    "    contents = contents.decode('utf-8')\n",
    "    contents = re.sub(r'[0-9]+', '', contents)\n",
    "    contents = re.sub(r'[\\,]+', \"\", contents)\n",
    "    contents = re.sub(r'[\\-]{1,}', \"\", contents)\n",
    "    contents = re.sub(r'(\\.)(.*)', \"\", contents)\n",
    "    contents = re.sub(r'(\\\\x)(.*)', \"\", contents)\n",
    "    contents = re.sub(r'(\\:)(.*)', \"\", contents)\n",
    "    contents = re.sub(r'(\\; )(.*)', \"\", contents)\n",
    "    contents = re.sub(r'(â)(.*)', \"\", contents)\n",
    "    contents = re.sub(r'(ð)(.*)', \"\", contents)\n",
    "    contents = re.sub(r'(user)', \"\", contents)\n",
    "    contents = re.sub(r'(\\\")+', \"\", contents)\n",
    "    contents = re.sub(r'(\\')+', \"\", contents)\n",
    "    contents = re.sub(r'(\\|)+', \"\", contents)\n",
    "    contents = re.sub(r'(\\\\n)+', \"\", contents) \n",
    "    contents = re.sub(r'[\\=]+', \"\", contents)\n",
    "    contents = re.sub(r'(bego|tolol|idiot|anjing|monyet|bangsat|bodoh|tai|homo|jancuk|lonte|gembrot|kntl|mampus|dungu|biadab|babi|pengecut|setan!|memek|kontol|mnyt|ngewe|kampret|ngentot|bloon|bangke|bacot)',r'XXX',contents)\n",
    "    contents = re.sub(r'(gendut|gembrot|kurus|ceking|babon|cungkring|autis|bencong)',r'YYY',contents)\n",
    "    contents = contents.lower()\n",
    "    contents = contents.split('\\n')\n",
    "    contents = [line for line in contents if line.strip() != '']\n",
    "    df = pd.DataFrame(contents, columns=['text'])\n",
    "    df = df.applymap(lambda x: x.strip())\n",
    "    df = df.dropna()\n",
    "    \n",
    "    # Menambahkan kolom dari df_original\n",
    "    df_original = pd.read_csv('original_data.csv')\n",
    "    df['HS'] = df_original['HS']\n",
    "    df['Abusive'] = df_original['Abusive']\n",
    "    df['HS_Individual'] = df_original['HS_Individual']\n",
    "    df['HS_Group'] = df_original['HS_Group']\n",
    "    df['HS_Religion'] = df_original['HS_Religion']\n",
    "    df['HS_Race'] = df_original['HS_Race']\n",
    "    df['HS_Physical'] = df_original['HS_Physical']\n",
    "    df['HS_Gender'] = df_original['HS_Gender']\n",
    "    df['HS_Other'] = df_original['HS_Other']\n",
    "    df['HS_Weak'] = df_original['HS_Weak']\n",
    "    df['HS_Moderate'] = df_original['HS_Moderate']\n",
    "    df['HS_Strong'] = df_original['HS_Strong']\n",
    "    \n",
    "    df.to_csv('cleaned_file_revisi.csv')\n",
    "    return df"
   ]
  }
 ],
 "metadata": {
  "kernelspec": {
   "display_name": "Python 3",
   "language": "python",
   "name": "python3"
  },
  "language_info": {
   "codemirror_mode": {
    "name": "ipython",
    "version": 3
   },
   "file_extension": ".py",
   "mimetype": "text/x-python",
   "name": "python",
   "nbconvert_exporter": "python",
   "pygments_lexer": "ipython3",
   "version": "3.11.0"
  },
  "orig_nbformat": 4,
  "vscode": {
   "interpreter": {
    "hash": "ebfc0a8d552866b0d59eba665220a57de3bc06f3ac643b8bef38dd8f66781fdd"
   }
  }
 },
 "nbformat": 4,
 "nbformat_minor": 2
}
